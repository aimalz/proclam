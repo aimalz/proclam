{
 "cells": [
  {
   "cell_type": "markdown",
   "metadata": {},
   "source": [
    "# Metrics evaluation notebook\n",
    "\n",
    "_Alex Malz (NYU)_\n",
    "_Renee Hlozek (Toronto)_\n",
    "_Rahul Biswas (Stockholm University)_\n",
    "_Tarek Alam (UCL)_\n",
    "_Rafael Martinez-Galarza (Harvard)_\n",
    "_Anita Bahmanyar (Toronto)_\n"
   ]
  },
  {
   "cell_type": "code",
   "execution_count": 1,
   "metadata": {
    "collapsed": true
   },
   "outputs": [],
   "source": [
    "# import string\n",
    "# import itertools\n",
    "# import random\n",
    "# import os\n",
    "# import csv\n",
    "\n",
    "import numpy as np\n",
    "import pandas as pd\n",
    "import timeit\n",
    "import proclam\n",
    "from proclam import *"
   ]
  },
  {
   "cell_type": "code",
   "execution_count": 2,
   "metadata": {},
   "outputs": [],
   "source": [
    "import matplotlib as mpl\n",
    "mpl.use('Agg')\n",
    "mpl.rcParams['text.usetex'] = False\n",
    "mpl.rcParams['mathtext.rm'] = 'serif'\n",
    "mpl.rcParams['font.family'] = 'serif'\n",
    "mpl.rcParams['font.serif'] = 'Times New Roman'\n",
    "mpl.rcParams['axes.titlesize'] = 16\n",
    "mpl.rcParams['axes.labelsize'] = 14\n",
    "mpl.rcParams['savefig.dpi'] = 250\n",
    "mpl.rcParams['savefig.format'] = 'pdf'\n",
    "mpl.rcParams['savefig.bbox'] = 'tight'\n",
    "import matplotlib.pyplot as plt\n",
    "%matplotlib inline"
   ]
  },
  {
   "cell_type": "markdown",
   "metadata": {},
   "source": [
    "This notebook defines the metrics (and corresponding truth tables) to be run via an input file and to produce plots based on the output."
   ]
  },
  {
   "cell_type": "code",
   "execution_count": 3,
   "metadata": {
    "collapsed": true
   },
   "outputs": [],
   "source": [
    "metricslist = ['Brier', 'LogLoss']\n",
    "colors = ['b', 'r']\n",
    "dirname = '/Users/reneehlozek/Data/PLAsTiCC_data/classifications/'\n",
    "markerlist = ['o', 's', '*']"
   ]
  },
  {
   "cell_type": "markdown",
   "metadata": {},
   "source": [
    "## Read in data"
   ]
  },
  {
   "cell_type": "markdown",
   "metadata": {},
   "source": [
    "Loading in the data from the Mystery Dataset"
   ]
  },
  {
   "cell_type": "code",
   "execution_count": 4,
   "metadata": {
    "collapsed": true
   },
   "outputs": [],
   "source": [
    "mystery = {}\n",
    "mystery['label'] = 'classify_wfd'\n",
    "mystery['names'] = ['RandomForest']#, 'KNeighbors', 'MLPNeuralNet']"
   ]
  },
  {
   "cell_type": "markdown",
   "metadata": {},
   "source": [
    "Loading in the data from SNPhotCC"
   ]
  },
  {
   "cell_type": "code",
   "execution_count": 5,
   "metadata": {
    "collapsed": true
   },
   "outputs": [],
   "source": [
    "snphotcc = {}\n",
    "snphotcc['label'] = 'SNPhotCC'\n",
    "prefixes = ['Templates', 'Wavelets']\n",
    "suffixes = ['BoostForest', 'KNN', 'NB', 'NeuralNetwork', 'SVM']\n",
    "snphotcc['names'] = []\n",
    "for prefix in prefixes:\n",
    "    for suffix in suffixes:\n",
    "        snphotcc['names'].append(prefix+suffix)"
   ]
  },
  {
   "cell_type": "markdown",
   "metadata": {},
   "source": [
    "Loading in the data from ProClaM"
   ]
  },
  {
   "cell_type": "code",
   "execution_count": 6,
   "metadata": {
    "collapsed": true
   },
   "outputs": [],
   "source": [
    "plasticc = {}\n",
    "plasticc['label'] = 'ProClaM'\n",
    "plasticc['names'] = ['Idealized', 'Guess', 'Tunnel', 'Broadbrush', 'Cruise', 'SubsumedTo', 'SubsumedFrom']"
   ]
  },
  {
   "cell_type": "code",
   "execution_count": 7,
   "metadata": {
    "collapsed": true
   },
   "outputs": [],
   "source": [
    "# old_snphotcc_names = []\n",
    "# for prefix in ['templates_', 'wavelets_']:\n",
    "#     for suffix in ['boost_forest', 'knn', 'nb', 'neural_network', 'svm']:\n",
    "#         old_snphotcc_names.append(prefix+suffix+'.dat')\n",
    "\n",
    "# for i in range(len(snphotcc_names)):\n",
    "#     name = old_snphotcc_names[i]\n",
    "#     fileloc = dirname+'classifications/'+name\n",
    "#     snphotcc_info = pd.read_csv(fileloc, sep=' ')\n",
    "#     full = snphotcc_info.set_index('Object').join(truth_snphotcc.set_index('Object'))\n",
    "#     name = snphotcc_names[i]\n",
    "    \n",
    "#     truth = full['Type'] - 1\n",
    "#     snphotcc_truth_table = proclam.metrics.util.det_to_prob(truth)\n",
    "#     fileloc = 'examples/'+name+'/truth_table_'+name+'.csv'\n",
    "#     with open(fileloc, 'wb') as truth_place:\n",
    "#         np.savetxt(fileloc, snphotcc_truth_table, delimiter=' ')\n",
    "    \n",
    "#     probs = full[['1', '2', '3']]\n",
    "#     fileloc = 'examples/'+name+'/predicted_prob_'+name+'.csv'\n",
    "#     probs.to_csv(fileloc, sep=' ', index=False, header=True)"
   ]
  },
  {
   "cell_type": "code",
   "execution_count": 8,
   "metadata": {
    "collapsed": true
   },
   "outputs": [],
   "source": [
    "# more_names = snphotcc_names\n",
    "# more_classifications = ['%s/predicted_prob_%s.csv'%(name,name) for name in snphotcc_names]\n",
    "# more_truth_tables = ['%s/truth_table_%s.csv'%(name,name) for name in snphotcc_names]\n",
    "# more_class_pairs = zip(more_classifications, more_truth_tables)"
   ]
  },
  {
   "cell_type": "code",
   "execution_count": 9,
   "metadata": {
    "collapsed": true
   },
   "outputs": [],
   "source": [
    "def make_class_pairs(data_info_dict):\n",
    "    return zip(data_info_dict['classifications'], data_info_dict['truth_tables'])\n",
    "\n",
    "def make_file_locs(data_info_dict):\n",
    "    names = data_info_dict['names']\n",
    "    data_info_dict['dirname'] = dirname + data_info_dict['label'] + '/'\n",
    "    data_info_dict['classifications'] = ['%s/predicted_prob_%s.csv'%(name, name) for name in names]\n",
    "    data_info_dict['truth_tables'] = ['%s/truth_table_%s.csv'%(name, name) for name in names]\n",
    "    print(data_info_dict)\n",
    "    return data_info_dict"
   ]
  },
  {
   "cell_type": "code",
   "execution_count": 10,
   "metadata": {},
   "outputs": [
    {
     "name": "stdout",
     "output_type": "stream",
     "text": [
      "{'label': 'classify_wfd', 'names': ['RandomForest'], 'dirname': '/Users/reneehlozek/Data/PLAsTiCC_data/classifications/classify_wfd/', 'classifications': ['RandomForest/predicted_prob_RandomForest.csv'], 'truth_tables': ['RandomForest/truth_table_RandomForest.csv']}\n",
      "{'label': 'SNPhotCC', 'names': ['TemplatesBoostForest', 'TemplatesKNN', 'TemplatesNB', 'TemplatesNeuralNetwork', 'TemplatesSVM', 'WaveletsBoostForest', 'WaveletsKNN', 'WaveletsNB', 'WaveletsNeuralNetwork', 'WaveletsSVM'], 'dirname': '/Users/reneehlozek/Data/PLAsTiCC_data/classifications/SNPhotCC/', 'classifications': ['TemplatesBoostForest/predicted_prob_TemplatesBoostForest.csv', 'TemplatesKNN/predicted_prob_TemplatesKNN.csv', 'TemplatesNB/predicted_prob_TemplatesNB.csv', 'TemplatesNeuralNetwork/predicted_prob_TemplatesNeuralNetwork.csv', 'TemplatesSVM/predicted_prob_TemplatesSVM.csv', 'WaveletsBoostForest/predicted_prob_WaveletsBoostForest.csv', 'WaveletsKNN/predicted_prob_WaveletsKNN.csv', 'WaveletsNB/predicted_prob_WaveletsNB.csv', 'WaveletsNeuralNetwork/predicted_prob_WaveletsNeuralNetwork.csv', 'WaveletsSVM/predicted_prob_WaveletsSVM.csv'], 'truth_tables': ['TemplatesBoostForest/truth_table_TemplatesBoostForest.csv', 'TemplatesKNN/truth_table_TemplatesKNN.csv', 'TemplatesNB/truth_table_TemplatesNB.csv', 'TemplatesNeuralNetwork/truth_table_TemplatesNeuralNetwork.csv', 'TemplatesSVM/truth_table_TemplatesSVM.csv', 'WaveletsBoostForest/truth_table_WaveletsBoostForest.csv', 'WaveletsKNN/truth_table_WaveletsKNN.csv', 'WaveletsNB/truth_table_WaveletsNB.csv', 'WaveletsNeuralNetwork/truth_table_WaveletsNeuralNetwork.csv', 'WaveletsSVM/truth_table_WaveletsSVM.csv']}\n",
      "{'label': 'ProClaM', 'names': ['Idealized', 'Guess', 'Tunnel', 'Broadbrush', 'Cruise', 'SubsumedTo', 'SubsumedFrom'], 'dirname': '/Users/reneehlozek/Data/PLAsTiCC_data/classifications/ProClaM/', 'classifications': ['Idealized/predicted_prob_Idealized.csv', 'Guess/predicted_prob_Guess.csv', 'Tunnel/predicted_prob_Tunnel.csv', 'Broadbrush/predicted_prob_Broadbrush.csv', 'Cruise/predicted_prob_Cruise.csv', 'SubsumedTo/predicted_prob_SubsumedTo.csv', 'SubsumedFrom/predicted_prob_SubsumedFrom.csv'], 'truth_tables': ['Idealized/truth_table_Idealized.csv', 'Guess/truth_table_Guess.csv', 'Tunnel/truth_table_Tunnel.csv', 'Broadbrush/truth_table_Broadbrush.csv', 'Cruise/truth_table_Cruise.csv', 'SubsumedTo/truth_table_SubsumedTo.csv', 'SubsumedFrom/truth_table_SubsumedFrom.csv']}\n"
     ]
    }
   ],
   "source": [
    "for dataset in [mystery, snphotcc, plasticc]:\n",
    "    dataset = make_file_locs(dataset)\n",
    "    dataset['class_pairs'] = make_class_pairs(dataset)"
   ]
  },
  {
   "cell_type": "markdown",
   "metadata": {
    "collapsed": true
   },
   "source": [
    "## Make the plots"
   ]
  },
  {
   "cell_type": "code",
   "execution_count": 11,
   "metadata": {
    "collapsed": true
   },
   "outputs": [],
   "source": [
    "def plot_cm(probs, truth, name, loc=''):\n",
    "    cm = proclam.metrics.util.prob_to_cm(probs, truth)\n",
    "    plt.matshow(cm.T, vmin=0., vmax=1.)\n",
    "# plt.xticks(range(max(truth)+1), names)\n",
    "# plt.yticks(range(max(truth)+1), names)\n",
    "    plt.xlabel('predicted class')\n",
    "    plt.ylabel('true class')\n",
    "    plt.colorbar()\n",
    "    plt.title(name)\n",
    "    plt.savefig(loc+name+'_cm.png')\n",
    "    plt.close()"
   ]
  },
  {
   "cell_type": "code",
   "execution_count": 12,
   "metadata": {
    "collapsed": true
   },
   "outputs": [],
   "source": [
    "def read_class_pairs(pair, dataset, cc):#loc='', title=''):\n",
    "    loc=dataset['dirname']\n",
    "    title=dataset['label']+' '+dataset['names'][cc]\n",
    "    clfile = pair[0]\n",
    "    truthfile = pair[1]\n",
    "    prob_mat = pd.read_csv(loc+clfile, delim_whitespace=True).values\n",
    "    nobj = np.shape(prob_mat)[0]\n",
    "    nclass = np.shape(prob_mat)[1]\n",
    "    truth_values = pd.read_csv(loc+truthfile, delim_whitespace=True).values\n",
    "    nobj_truth = np.shape(truth_values)[0]\n",
    "    print(nobj_truth, 'number of objects')\n",
    "    nclass_truth = np.shape(truth_values)[1]\n",
    "    tvec = np.where(truth_values==1)[1]\n",
    "#     if nclass_truth!= nclass:\n",
    "#         print('Truth table of size %i x %i and prob matrix of size %i x %i do not match up in size'%(nobj,nclass,nobj_truth,nclass_truth))\n",
    "#     else:\n",
    "#         print('Considering classifications with %i classes'%nclass)\n",
    "    pmat = prob_mat\n",
    "    plot_cm(pmat, tvec, title, loc=loc+dataset['names'][cc]+'/')\n",
    "    return pmat, tvec"
   ]
  },
  {
   "cell_type": "code",
   "execution_count": 13,
   "metadata": {
    "collapsed": true
   },
   "outputs": [],
   "source": [
    "def make_patch_spines_invisible(ax):\n",
    "    ax.set_frame_on(True)\n",
    "    ax.patch.set_visible(False)\n",
    "    for sp in ax.spines.values():\n",
    "        sp.set_visible(False)\n",
    "        \n",
    "def per_metric_helper(ax, n, data, metric_names, codes, shapes, colors):\n",
    "    plot_n = n+1\n",
    "    in_x = np.arange(len(codes))\n",
    "    ax_n = ax\n",
    "    n_factor = 0.1 * (plot_n - 2)\n",
    "    if plot_n>1:\n",
    "        ax_n = ax.twinx()\n",
    "        rot_ang = 270\n",
    "        label_space = 15.\n",
    "    else:\n",
    "        rot_ang = 90\n",
    "        label_space = 0.\n",
    "    if plot_n>2:\n",
    "        ax_n.spines[\"right\"].set_position((\"axes\", 1. + 0.1 * (plot_n-1)))\n",
    "        make_patch_spines_invisible(ax_n)\n",
    "        ax_n.spines[\"right\"].set_visible(True)\n",
    "    handle = ax_n.scatter(in_x+n_factor*np.ones_like(data[n]), data[n], marker=shapes[n], s=10, color=colors[n], label=metric_names[n])\n",
    "    ax_n.set_ylabel(metric_names[n], rotation=rot_ang, fontsize=14, labelpad=label_space)\n",
    "#     ax_n.set_ylim(0.9 * min(data[n]), 1.1 * max(data[n]))\n",
    "    return(ax, ax_n, handle)\n",
    "\n",
    "def metric_plot(dataset, metric_names, shapes, colors):\n",
    "    codes = dataset['names']\n",
    "    data = dataset['results']\n",
    "    title = dataset['label']\n",
    "    fileloc = dataset['dirname']+dataset['label']+'_results.png'\n",
    "    xs = np.arange(len(codes))\n",
    "    fig, ax = plt.subplots()\n",
    "    fig.subplots_adjust(right=1.)\n",
    "    handles = []\n",
    "    for n in range(len(metric_names)):\n",
    "        (ax, ax_n, handle) = per_metric_helper(ax, n, data, metric_names, codes, shapes, colors)\n",
    "        handles.append(handle)\n",
    "    plt.xticks(xs, codes)\n",
    "    for tick in ax.get_xticklabels():\n",
    "        tick.set_rotation(90)\n",
    "    plt.xlabel('Classifiers', fontsize=14)\n",
    "    plt.legend(handles, metric_names)\n",
    "    plt.suptitle(title)\n",
    "    plt.savefig(fileloc)\n",
    "    return"
   ]
  },
  {
   "cell_type": "markdown",
   "metadata": {},
   "source": [
    "make a plot of classifier on the x-axis and metric score on the y-axis\n"
   ]
  },
  {
   "cell_type": "code",
   "execution_count": 14,
   "metadata": {},
   "outputs": [
    {
     "name": "stdout",
     "output_type": "stream",
     "text": [
      "0 ('RandomForest/predicted_prob_RandomForest.csv', 'RandomForest/truth_table_RandomForest.csv')\n",
      "2268483 number of objects\n",
      "(2268483, 14)\n",
      "<enumerate object at 0x1086a4d80>\n",
      "took 0.004739752010209486 seconds\n",
      "0 ('TemplatesBoostForest/predicted_prob_TemplatesBoostForest.csv', 'TemplatesBoostForest/truth_table_TemplatesBoostForest.csv')\n",
      "20215 number of objects\n",
      "(20215, 3)\n",
      "<enumerate object at 0x1a10a1a048>\n",
      "1 ('TemplatesKNN/predicted_prob_TemplatesKNN.csv', 'TemplatesKNN/truth_table_TemplatesKNN.csv')\n",
      "20215 number of objects\n",
      "(20215, 3)\n",
      "<enumerate object at 0x1a0f1c0708>\n",
      "2 ('TemplatesNB/predicted_prob_TemplatesNB.csv', 'TemplatesNB/truth_table_TemplatesNB.csv')\n",
      "20215 number of objects\n",
      "(20215, 3)\n",
      "<enumerate object at 0x1a0f0ca6c0>\n",
      "3 ('TemplatesNeuralNetwork/predicted_prob_TemplatesNeuralNetwork.csv', 'TemplatesNeuralNetwork/truth_table_TemplatesNeuralNetwork.csv')\n",
      "20215 number of objects\n",
      "(20215, 3)\n",
      "<enumerate object at 0x1a0f41a1f8>\n",
      "4 ('TemplatesSVM/predicted_prob_TemplatesSVM.csv', 'TemplatesSVM/truth_table_TemplatesSVM.csv')\n",
      "20215 number of objects\n",
      "(20215, 3)\n",
      "<enumerate object at 0x1a0f3d1438>\n",
      "5 ('WaveletsBoostForest/predicted_prob_WaveletsBoostForest.csv', 'WaveletsBoostForest/truth_table_WaveletsBoostForest.csv')\n",
      "20215 number of objects\n",
      "(20215, 3)\n",
      "<enumerate object at 0x1a0f260828>\n",
      "6 ('WaveletsKNN/predicted_prob_WaveletsKNN.csv', 'WaveletsKNN/truth_table_WaveletsKNN.csv')\n",
      "20215 number of objects\n",
      "(20215, 3)\n",
      "<enumerate object at 0x1a0ea71750>\n",
      "7 ('WaveletsNB/predicted_prob_WaveletsNB.csv', 'WaveletsNB/truth_table_WaveletsNB.csv')\n",
      "20215 number of objects\n",
      "(20215, 3)\n",
      "<enumerate object at 0x1a0f5012d0>\n",
      "8 ('WaveletsNeuralNetwork/predicted_prob_WaveletsNeuralNetwork.csv', 'WaveletsNeuralNetwork/truth_table_WaveletsNeuralNetwork.csv')\n",
      "20215 number of objects\n",
      "(20215, 3)\n",
      "<enumerate object at 0x1a0e7a55e8>\n",
      "9 ('WaveletsSVM/predicted_prob_WaveletsSVM.csv', 'WaveletsSVM/truth_table_WaveletsSVM.csv')\n",
      "20215 number of objects\n",
      "(20215, 3)\n",
      "<enumerate object at 0x1a0e867870>\n",
      "took -0.010405356006231159 seconds\n",
      "0 ('Idealized/predicted_prob_Idealized.csv', 'Idealized/truth_table_Idealized.csv')\n",
      "999 number of objects\n",
      "(999, 5)\n",
      "<enumerate object at 0x1a0f534120>\n",
      "1 ('Guess/predicted_prob_Guess.csv', 'Guess/truth_table_Guess.csv')\n",
      "999 number of objects\n",
      "(999, 5)\n",
      "<enumerate object at 0x1a0edfbe10>\n",
      "2 ('Tunnel/predicted_prob_Tunnel.csv', 'Tunnel/truth_table_Tunnel.csv')\n",
      "999 number of objects\n",
      "(999, 5)\n",
      "<enumerate object at 0x1a0efdff78>\n",
      "3 ('Broadbrush/predicted_prob_Broadbrush.csv', 'Broadbrush/truth_table_Broadbrush.csv')\n",
      "999 number of objects\n",
      "(999, 5)\n",
      "<enumerate object at 0x1a0fdbaea0>\n",
      "4 ('Cruise/predicted_prob_Cruise.csv', 'Cruise/truth_table_Cruise.csv')\n",
      "999 number of objects\n",
      "(999, 5)\n",
      "<enumerate object at 0x1a0fe14a20>\n",
      "5 ('SubsumedTo/predicted_prob_SubsumedTo.csv', 'SubsumedTo/truth_table_SubsumedTo.csv')\n",
      "999 number of objects\n",
      "(999, 5)\n",
      "<enumerate object at 0x1a10014ab0>\n",
      "6 ('SubsumedFrom/predicted_prob_SubsumedFrom.csv', 'SubsumedFrom/truth_table_SubsumedFrom.csv')\n",
      "999 number of objects\n",
      "(999, 5)\n",
      "<enumerate object at 0x1a0ff3c6c0>\n",
      "took 0.008816945002763532 seconds\n"
     ]
    },
    {
     "data": {
      "image/png": "[encoded data removed]",
      "text/plain": [
       "<matplotlib.figure.Figure at 0x10868ccc0>"
      ]
     },
     "metadata": {},
     "output_type": "display_data"
    },
    {
     "data": {
      "image/png": "[encoded data removed]",
      "text/plain": [
       "<matplotlib.figure.Figure at 0x1a0ec8e550>"
      ]
     },
     "metadata": {},
     "output_type": "display_data"
    },
    {
     "data": {
      "image/png": "[encoded data removed]",
      "text/plain": [
       "<matplotlib.figure.Figure at 0x1a0ff45c50>"
      ]
     },
     "metadata": {},
     "output_type": "display_data"
    }
   ],
   "source": [
    "for dataset in [mystery, snphotcc, plasticc]:\n",
    "    start = timeit.timeit()\n",
    "    data = np.empty((len(metricslist), len(dataset['names'])))\n",
    "    for cc, pair in enumerate(dataset['class_pairs']):\n",
    "        print(cc, pair)\n",
    "        probm, truthv = read_class_pairs(pair, dataset, cc)\n",
    "        print(np.shape(probm))\n",
    "        print(enumerate(metricslist))\n",
    "        #loc=dataset['dirname'], title=dataset['label']+' '+dataset['names'][cc])\n",
    "        for count, metric in enumerate(metricslist):\n",
    "            D = getattr(proclam.metrics, metric)()\n",
    "            hm = D.evaluate(probm, truthv)\n",
    "            data[count][cc] = hm\n",
    "    dataset['results'] = data\n",
    "    metric_plot(dataset, metricslist, markerlist, colors)\n",
    "    end = timeit.timeit()\n",
    "    elapsed = end-start\n",
    "    print('took %s seconds' %elapsed)"
   ]
  },
  {
   "cell_type": "code",
   "execution_count": 15,
   "metadata": {
    "collapsed": true
   },
   "outputs": [],
   "source": [
    "# more_data = np.empty((len(metricslist), len(more_names)))\n",
    "# for cc, pair in enumerate(more_class_pairs):\n",
    "#     probm, truthv = read_class_pairs(pair, dirname)\n",
    "#     for count, metric in enumerate(metricslist):\n",
    "#         D = getattr(proclam.metrics, metric)()\n",
    "#         hm = D.evaluate(probm, truthv)\n",
    "#         more_data[count][cc] = hm"
   ]
  },
  {
   "cell_type": "code",
   "execution_count": 16,
   "metadata": {
    "collapsed": true
   },
   "outputs": [],
   "source": [
    "# metric_plot(more_names, metricslist, more_data, markerlist, colors, title='SNPhotCC', fileloc=dirname+'snphotccdata.png')"
   ]
  },
  {
   "cell_type": "code",
   "execution_count": 17,
   "metadata": {
    "collapsed": true
   },
   "outputs": [],
   "source": [
    "# data = np.empty((len(metricslist), len(names)))\n",
    "# for cc, pair in enumerate(class_pairs):\n",
    "#     probm, truthv = read_class_pairs(pair, dirname)\n",
    "#     for count, metric in enumerate(metricslist):\n",
    "#         D = getattr(proclam.metrics, metric)()\n",
    "#         hm = D.evaluate(probm, truthv)\n",
    "#         data[count][cc] = hm"
   ]
  },
  {
   "cell_type": "code",
   "execution_count": 18,
   "metadata": {
    "collapsed": true,
    "scrolled": true
   },
   "outputs": [],
   "source": [
    "# metric_plot(names, metricslist, data, markerlist, colors, title='Mystery Dataset', fileloc=dirname+'mysterydata.png')"
   ]
  },
  {
   "cell_type": "code",
   "execution_count": null,
   "metadata": {
    "collapsed": true
   },
   "outputs": [],
   "source": []
  }
 ],
 "metadata": {
  "anaconda-cloud": {},
  "kernelspec": {
   "display_name": "Python 3",
   "language": "python",
   "name": "python3"
  },
  "language_info": {
   "codemirror_mode": {
    "name": "ipython",
    "version": 3
   },
   "file_extension": ".py",
   "mimetype": "text/x-python",
   "name": "python",
   "nbconvert_exporter": "python",
   "pygments_lexer": "ipython3",
   "version": "3.6.3"
  }
 },
 "nbformat": 4,
 "nbformat_minor": 2
}
