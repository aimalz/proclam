{
 "cells": [
  {
   "cell_type": "markdown",
   "metadata": {},
   "source": [
    "This notebook runs the tests and makes the plots for evaluating the mock classifiers."
   ]
  },
  {
   "cell_type": "code",
   "execution_count": 1,
   "metadata": {
    "tags": [
     "hideme"
    ]
   },
   "outputs": [],
   "source": [
    "import numpy as np\n",
    "import pandas as pd\n",
    "import pickle\n",
    "np.random.seed(42)\n",
    "import scipy.stats as sps"
   ]
  },
  {
   "cell_type": "code",
   "execution_count": 2,
   "metadata": {
    "tags": [
     "hideme"
    ]
   },
   "outputs": [],
   "source": [
    "import matplotlib as mpl\n",
    "# print(mpl.rcParams.items)\n",
    "mpl.use('Agg')\n",
    "mpl.rcParams['text.usetex'] = False\n",
    "mpl.rcParams['mathtext.rm'] = 'serif'\n",
    "mpl.rcParams['font.family'] = 'serif'\n",
    "mpl.rcParams['font.serif'] = ['Times New Roman']\n",
    "# mpl.rcParams['font.family'] = ['Times New Roman']\n",
    "mpl.rcParams['axes.titlesize'] = 25\n",
    "mpl.rcParams['axes.labelsize'] = 20\n",
    "mpl.rcParams['xtick.labelsize'] = 15\n",
    "mpl.rcParams['ytick.labelsize'] = 15\n",
    "mpl.rcParams['savefig.dpi'] = 250\n",
    "mpl.rcParams['figure.dpi'] = 250\n",
    "mpl.rcParams['savefig.format'] = 'pdf'\n",
    "mpl.rcParams['savefig.bbox'] = 'tight'\n",
    "import matplotlib.pyplot as plt\n",
    "%matplotlib inline\n",
    "# print(mpl.rcParams.items)\n",
    "\n",
    "import pylab\n",
    "from mpl_toolkits.axes_grid1 import ImageGrid\n",
    "from mpl_toolkits.axes_grid1.inset_locator import inset_axes\n",
    "\n",
    "fave_cmap = mpl.cm.winter_r"
   ]
  },
  {
   "cell_type": "code",
   "execution_count": 3,
   "metadata": {
    "tags": [
     "hideme"
    ]
   },
   "outputs": [],
   "source": [
    "import proclam\n",
    "from proclam import *"
   ]
  },
  {
   "cell_type": "code",
   "execution_count": 14,
   "metadata": {},
   "outputs": [],
   "source": [
    "quick = True\n",
    "if quick:\n",
    "    M_classes = 13\n",
    "    oom = 2\n",
    "else:\n",
    "    M_classes = 13\n",
    "    oom = 6"
   ]
  },
  {
   "cell_type": "code",
   "execution_count": 15,
   "metadata": {},
   "outputs": [
    {
     "name": "stdout",
     "output_type": "stream",
     "text": [
      "warning: some classes not represented! try lowering base\n"
     ]
    }
   ],
   "source": [
    "flat_factor = 1. / M_classes\n",
    "generator = proclam.simulators.LogUnbalanced()\n",
    "N_objects = int(10 ** oom)\n",
    "minitruth = generator.simulate(M_classes, N_objects, base=oom)\n",
    "pops = np.histogram(minitruth, bins=range(M_classes+1))[0]\n",
    "# print(pops)\n",
    "minipops = np.empty(M_classes)\n",
    "for m in range(M_classes):\n",
    "    minipops[m] = np.log10(np.max((pops[m], 1.))) /np.log10(N_objects)# / M_classes\n",
    "# print(np.log10(minipops) / np.log10(N_objects))\n",
    "# print(np.sum(minipops) / M_classes)"
   ]
  },
  {
   "cell_type": "code",
   "execution_count": 16,
   "metadata": {
    "tags": [
     "hidein"
    ]
   },
   "outputs": [
    {
     "data": {
      "image/png": "[encoded data removed]",
      "text/plain": [
       "<Figure size 360x360 with 1 Axes>"
      ]
     },
     "metadata": {
      "needs_background": "light"
     },
     "output_type": "display_data"
    }
   ],
   "source": [
    "fig, ax = plt.subplots(figsize=(5, 5))\n",
    "d = np.diff(np.unique(minitruth)).min()\n",
    "left_of_first_bin = minitruth.min() - float(d)/2\n",
    "right_of_last_bin = minitruth.max() + float(d)/2\n",
    "ax.hist(minitruth, np.arange(left_of_first_bin, right_of_last_bin + d, d), log=True, alpha=0.5, color='k')\n",
    "# ax.plot(testvals)\n",
    "ax.set_xticks(range(M_classes))\n",
    "ax.set_xticklabels(range(1, M_classes+1))\n",
    "# plt.hist(truth, log=True, alpha=0.5)\n",
    "ax.set_xlim(-0.5, M_classes-0.5)\n",
    "ax.set_ylabel('counts', fontsize=20)\n",
    "ax.set_xlabel('true class', fontsize=20)\n",
    "plt.savefig('fig/mock_counts.png')\n",
    "plt.show()\n",
    "plt.close()"
   ]
  },
  {
   "cell_type": "code",
   "execution_count": 17,
   "metadata": {},
   "outputs": [],
   "source": [
    "def make_cm(start_cm, m, systematic, accomplice=-1):\n",
    "    cm = start_cm\n",
    "    big_M = len(start_cm)\n",
    "    if m < 0 or m > big_M:\n",
    "#         print(m)\n",
    "        cm = cm / np.sum(cm, axis=1)[:, np.newaxis]\n",
    "        return cm\n",
    "    if systematic == 'uncertain':\n",
    "        cm[m] = np.ones(big_M)\n",
    "    if systematic == 'almost':\n",
    "        cm[m] = flat_factor * 0.5 * np.ones(big_M)\n",
    "#         cm[:, m] = flat_factor * 0.5 * np.ones(big_M).T\n",
    "        cm[m][m] += 1.5 * flat_factor\n",
    "    if systematic == 'noisy':\n",
    "        cm[m] = flat_factor * 0.5 * np.ones(big_M)\n",
    "#         cm[:, m] = flat_factor * 0.5 * np.ones(big_M).T\n",
    "        cm[m][m] += 0.5 * flat_factor\n",
    "#     if systematic == 'tunnel':\n",
    "#         cm[m] = flat_factor * np.zeros(big_M) + np.asarray(1.e-8)\n",
    "# #         cm[:, m] = flat_factor * np.zeros(big_M).T\n",
    "#         cm[m][m] += 1. * flat_factor\n",
    "    if systematic == 'perfect' or systematic == 'tunnel':\n",
    "        cm[m] = flat_factor * np.zeros(big_M) + np.asarray(1.e-8)\n",
    "        cm[:, m] = flat_factor * np.zeros(big_M).T + np.asarray(1.e-8)\n",
    "        cm[m][m] += 1. * flat_factor\n",
    "    if systematic == 'subsumed' or systematic == 'cruise':\n",
    "        cm[m] = cm[accomplice]\n",
    "#     if systematic == 'cruise' or systematic == 'subsumer':\n",
    "#         cm[m] = np.zeros_like(big_M)\n",
    "#         cm[m, accomplice] = 1.\n",
    "    cm = cm / np.sum(cm, axis=1)[:, np.newaxis]\n",
    "    return cm"
   ]
  },
  {
   "cell_type": "code",
   "execution_count": 18,
   "metadata": {},
   "outputs": [],
   "source": [
    "classifier = proclam.classifiers.FromCM()\n",
    "\n",
    "mega_test, alt_mega_test = {}, {}\n",
    "N_affected = range(M_classes)\n",
    "\n",
    "delfact = -1\n",
    "minidelta = 10**delfact\n",
    "altdelfact = delfact * 2\n",
    "altminidelta = 10**altdelfact\n",
    "\n",
    "metric_info = {'LogLoss': mpl.cm.winter_r(1.), 'Brier': mpl.cm.winter_r(0.)}\n",
    "which_metrics = metric_info.keys()\n",
    "met_evals = {}\n",
    "for met in which_metrics:\n",
    "    met_evals[met] = getattr(proclam.metrics, met)()"
   ]
  },
  {
   "cell_type": "code",
   "execution_count": 19,
   "metadata": {},
   "outputs": [],
   "source": [
    "all_shapes = {'uncertain':'s', 'tunnel':'o', 'almost':'P', 'noisy':'X', 'subsumed': 'D', 'perfect': '*'}\n",
    "all_shapes_bg = {'perfect':(3,0,0), 'almost':(4,0,0), 'noisy':(4,0,45)}#, 'cruise':(3,0,180)}\n",
    "all_shapes_fg = {'uncertain':'.', 'almost':(4,2,0), 'noisy':(4,2,45), 'subsumed':(3,2,180)}#, 'tunnel':(3,2,0)"
   ]
  },
  {
   "cell_type": "code",
   "execution_count": 20,
   "metadata": {},
   "outputs": [],
   "source": [
    "# all_styles = {'per_class':'--', 'per_item':':'}\n",
    "# which_weight_schemes = list(all_styles.keys())#['per_class', 'per_item']\n",
    "possible_weights = np.linspace(0., 1., 11)\n",
    "weight_vecs = np.array([[i] + [(1. - i) / (M_classes - 1.)] * (M_classes - 1) for i in possible_weights])\n",
    "which_weight_schemes = {str(i): weight_vecs[i] for i in range(len(possible_weights))}\n",
    "\n",
    "fave_cmap = mpl.cm.winter_r"
   ]
  },
  {
   "cell_type": "code",
   "execution_count": 21,
   "metadata": {},
   "outputs": [],
   "source": [
    "def cm_mega_plot(info_dict, systematics, m, fn='', numrows=2, numcols=4):\n",
    "    fig = pylab.figure(figsize=(5.1, 5.1))\n",
    "    bigAxes = pylab.axes(frameon=False)     # hide frame\n",
    "    bigAxes.set_xticks([])                        # don't want to see any ticks on this axis\n",
    "    bigAxes.set_yticks([])\n",
    "    bigAxes.set_title(fn+' with '+str(m)+' affected')\n",
    "    grid = ImageGrid(fig, 111,          # as in plt.subplot(111)\n",
    "                 nrows_ncols=(numrows,numcols),\n",
    "                 axes_pad=0.,\n",
    "                 share_all=True,\n",
    "                 cbar_location=\"right\",\n",
    "                 cbar_mode=\"single\",\n",
    "                 cbar_size=\"5%\",\n",
    "                 cbar_pad=0.01,\n",
    "                 )\n",
    "    gridnos = np.arange(numrows * numcols).reshape((numcols, numrows)).T.flatten()\n",
    "    for j in range(numcols * numrows):\n",
    "        i = gridnos[j]\n",
    "        ax = grid[j]#fig.add_subplot(numrows,numcols,i+1)#, frameon=False)\n",
    "        ax.set_xticks([])\n",
    "        ax.set_yticks([])\n",
    "        ax.set_xticklabels([])\n",
    "        ax.set_yticklabels([])\n",
    "        position = ax.get_position()\n",
    "#         print(position)\n",
    "        position.x0 += 0.01\n",
    "        position.y0 += 0.02\n",
    "        position.x1 += 0.01\n",
    "        position.y1 += 0.02\n",
    "        ax.set_position(position)\n",
    "#         print(position)\n",
    "        testname = systematics[j]\n",
    "        \n",
    "        im = ax.imshow(info_dict[testname]['cm'][m], vmin=0., vmax=1., cmap='winter_r')\n",
    "        ax.text(.5,.9,testname,horizontalalignment='center',transform=ax.transAxes, fontsize=16)\n",
    "#     pylab.colorbar()\n",
    "#     fig.subplots_adjust(right=0.5)\n",
    "#     cbar_ax = fig.add_axes([0.85, 0.15, 0.05, 0.7])\n",
    "#     fig.colorbar(im, cax=cbar_ax)\n",
    "    ax.cax.colorbar(im)\n",
    "    ax.cax.toggle_label(True)\n",
    "    bigAxes.set_ylabel(r'true class', fontsize=20)\n",
    "    bigAxes.set_xlabel(r'predicted class', fontsize=20)\n",
    "    pylab.tight_layout()\n",
    "    pylab.savefig('fig/systest_'+fn+'_cm.png', bbox_inches='tight', pad_inches=0)"
   ]
  },
  {
   "cell_type": "code",
   "execution_count": 22,
   "metadata": {},
   "outputs": [],
   "source": [
    "# cm_mega_plot(alt_mega_test['perfect'], which_systematics, m=12, fn='all_cm', numrows=2, numcols=4)"
   ]
  },
  {
   "cell_type": "code",
   "execution_count": 23,
   "metadata": {},
   "outputs": [
    {
     "name": "stdout",
     "output_type": "stream",
     "text": [
      "[1. 1. 1. 1. 1. 1. 1. 1. 1. 1. 1. 1. 1.]\n"
     ]
    },
    {
     "data": {
      "image/png": "[encoded data removed]",
      "text/plain": [
       "<Figure size 360x360 with 3 Axes>"
      ]
     },
     "metadata": {
      "needs_background": "light"
     },
     "output_type": "display_data"
    }
   ],
   "source": [
    "starter = 0.5 * np.ones((M_classes, M_classes)) + 1.5 * np.eye(M_classes)\n",
    "starter = starter / np.sum(starter, axis=1)[:, np.newaxis]\n",
    "cm = starter\n",
    "\n",
    "# afflicted = np.random.choice(range(0, M_classes), size=10, replace=False)\n",
    "cruise = [0, 1]#afflicted[2:4]\n",
    "subsumed = [2, 3, 5, 6]#afflicted[4:8]\n",
    "swapped = [-4, -5]\n",
    "tunnel = [0, 7]#afflicted[8:]\n",
    "noisy_cls = [-2, -1]#afflicted[:2]\n",
    "uncertain = [-3]\n",
    "afflicted = cruise + subsumed + tunnel + noisy_cls\n",
    "\n",
    "systematic_types = [\n",
    "    'perfect',\n",
    "    'almost perfect',\n",
    "    'cruise control by 1',\n",
    "    'cruise control by 1',\n",
    "    'almost perfect',\n",
    "    'subsumed by 2',\n",
    "    'subsumed by 2',\n",
    "    'tunnel vision',\n",
    "    'mutually subsuming',\n",
    "    'mutually subsuming',\n",
    "    'uncertain',\n",
    "    'noisy',\n",
    "    'noisy'\n",
    "]\n",
    "plot_systematic_types = list(reversed(systematic_types))\n",
    "\n",
    "almost = 0.5 * np.ones((M_classes, M_classes)) + 1.5 * np.eye(M_classes)\n",
    "almost = almost / np.sum(almost, axis=1)[:, np.newaxis]\n",
    "cm = almost\n",
    "perfect = np.eye(M_classes) + 1.e-8\n",
    "cm[tunnel] = perfect[tunnel]\n",
    "noisy = 0.5 * np.ones((M_classes, M_classes)) + 0.5 * np.eye(M_classes)\n",
    "noisy = noisy / np.sum(starter, axis=1)[:, np.newaxis]\n",
    "cm[noisy_cls] = noisy[noisy_cls]\n",
    "cm[subsumed[:2]] = cm[cruise[0]]#[np.newaxis] + np.asarray(0.01)[np.newaxis] * np.random.uniform(M_classes)[np.newaxis, :]\n",
    "cm[subsumed[2:]] = cm[cruise[1]]\n",
    "cm[uncertain] = 1./float(M_classes) * np.ones(M_classes)\n",
    "cm[swapped[1]][swapped[0]] = cm[swapped[0]][swapped[0]]\n",
    "cm[swapped[0]][swapped[1]] = cm[swapped[1]][swapped[1]]\n",
    "cm[:, 7] = perfect[:, 7]\n",
    "\n",
    "cm = cm / np.sum(cm, axis=1)[:, np.newaxis]\n",
    "# plasticc = wrap_up_classifier(cm, 'Combined', plasticc, delta=0.01)\n",
    "print(np.sum(cm, axis=1))\n",
    "\n",
    "fig = plt.figure(figsize=(5,5))\n",
    "grid = ImageGrid(fig, 111,          # as in plt.subplot(111)\n",
    "                 nrows_ncols=(1,1),\n",
    "                 axes_pad=0.,\n",
    "                 share_all=True,\n",
    "                 cbar_location=\"top\",\n",
    "                 cbar_mode=\"single\",\n",
    "                 cbar_size=\"5%\",\n",
    "                 cbar_pad=0.1,\n",
    "                 )\n",
    "ax = grid[0]\n",
    "im = ax.imshow(cm, vmin=0., vmax=1., cmap=mpl.cm.winter_r)\n",
    "ax.set_xticks(range(M_classes))\n",
    "ax.set_xticklabels(range(1, M_classes+1))\n",
    "ax.set_yticks(range(M_classes))\n",
    "ax.set_yticklabels(range(1, M_classes+1))\n",
    "# ax.xaxis.tick_top()\n",
    "# ax.yaxis.tick_top()\n",
    "ax.set_ylabel('true class')\n",
    "ax.set_xlabel('predicted class')\n",
    "axp = ax.twinx()\n",
    "axp.set_ylim(-0.5, M_classes-0.5)\n",
    "axp.set_yticks(range(1, M_classes+1))\n",
    "axp.set_yticklabels(plot_systematic_types)\n",
    "# plt.colorbar(thing, orientation='horizontal') \n",
    "axp.set_ylabel('systematic effect', rotation=270, labelpad=20)\n",
    "ax.cax.colorbar(im)\n",
    "ax.cax.toggle_label(True)\n",
    "ax.set_title('realistically complex \\n conditional probability matrix', pad=50)\n",
    "plt.savefig('fig/combined.png')\n",
    "plt.show()\n",
    "plt.close()"
   ]
  },
  {
   "cell_type": "code",
   "execution_count": 24,
   "metadata": {},
   "outputs": [
    {
     "data": {
      "image/png": "[encoded data removed]",
      "text/plain": [
       "<Figure size 360x720 with 3 Axes>"
      ]
     },
     "metadata": {
      "needs_background": "light"
     },
     "output_type": "display_data"
    }
   ],
   "source": [
    "import random\n",
    "from mpl_toolkits.axes_grid1 import ImageGrid\n",
    "\n",
    "howmanytoshow = 2 * M_classes\n",
    "truth_here = list(range(M_classes))+list(range(M_classes))#np.random.choice(M_classes, howmanytoshow)\n",
    "random.shuffle(truth_here)\n",
    "truth_here = np.array(truth_here)\n",
    "\n",
    "classifier = FromCMDM()\n",
    "res = classifier.classify(cm, truth_here, delta=0.01, other=False)\n",
    "\n",
    "tickinfo = [systematic_types[i] for i in truth_here]\n",
    "tickinfo = list(reversed(tickinfo))\n",
    "\n",
    "# all_shapes_bg = {'uncertain':'o', 'perfect':(3,0,0), 'almost':(4,0,0), 'noisy':(4,0,45)}#, 'cruise':(3,0,180)}\n",
    "# all_shapes_fg = {'uncertain':'.', 'almost':(4,2,0), 'noisy':(4,2,45), 'subsumed':(3,2,180)}#, 'tunnel':(3,2,0)\n",
    "\n",
    "\n",
    "# fig, ax = plt.subplots()\n",
    "# plt.imshow(cm, vmin=0., vmax=1., cmap=mpl.cm.winter_r)\n",
    "# for x,y in zip(range(M_classes), range(M_classes)):\n",
    "#     plt.text(x-0.5, y+0.5, str(x), color=\"red\", fontsize=15)\n",
    "# ax.set_xticks(range(M_classes))\n",
    "# ax.set_yticks(range(M_classes))\n",
    "# plt.show()\n",
    "# plt.close()\n",
    "    \n",
    "# fig, ax = plt.subplots(figsize=(5, 10))\n",
    "fig = plt.figure(figsize=(5,10))\n",
    "axs = ImageGrid(fig, 111, nrows_ncols=(1,1))\n",
    "ax = axs[0]\n",
    "#     _ = ax.imshow(d)\n",
    "ax.set_title('classification probabilities')\n",
    "ax.set_xlabel('possible classes')\n",
    "ax.set_xticks(range(M_classes))\n",
    "ax.set_xticklabels(range(1, M_classes+1))\n",
    "\n",
    "ax.imshow(res, vmin=0., vmax=1., cmap=mpl.cm.winter_r)\n",
    "ax.set_yticks(range(howmanytoshow))\n",
    "ax.set_yticklabels(truth_here+1)\n",
    "ax.set_ylabel('true class')\n",
    "ax.tick_params(axis=u'both', which=u'both',length=0)\n",
    "for x, y in zip(truth_here, range(howmanytoshow)):\n",
    "#     ax.text(x-0.25, y+0.25, str(x), color=\"red\", fontsize=15)\n",
    "    ax.scatter(x, y, marker='*', color=\"red\", s=75)#, fontsize=15)\n",
    "\n",
    "ax2 = ax.twinx()\n",
    "ax2.set_yticks(range(howmanytoshow))\n",
    "ax2.set_yticklabels(tickinfo)\n",
    "ax2.set_ylabel('systematic effect', rotation=270, labelpad=20)\n",
    "ax2.set_ylim(-0.5, howmanytoshow-0.5)\n",
    "ax2.tick_params(axis=u'both', which=u'both',length=0)\n",
    "\n",
    "# plt.tight_layout()\n",
    "plt.savefig('fig/examples.png', dpi=250)\n",
    "plt.show()"
   ]
  },
  {
   "cell_type": "markdown",
   "metadata": {},
   "source": [
    "# test number affected by each systematic relative to different baselines"
   ]
  },
  {
   "cell_type": "code",
   "execution_count": 25,
   "metadata": {},
   "outputs": [],
   "source": [
    "def one_loop_naff(collector, name, which_systematics, starter, dirichlet=False, fn=None):# mega_test, 'reltoagnostic'\n",
    "    systest = {}\n",
    "    if not dirichlet:\n",
    "        classifier = FromCM()\n",
    "        delta = minidelta\n",
    "    else:\n",
    "        classifier = FromCMDM()\n",
    "        delta = altminidelta\n",
    "#     collector['delta'] = delta\n",
    "    print('dirichlet='+str(dirichlet)+', delta='+str(delta))\n",
    "#     systematic_info = all_shapes[which_systematics]\n",
    "#     w = 'per_class'\n",
    "    for s in which_systematics:\n",
    "        systest[s] = {}\n",
    "        for met in which_metrics:\n",
    "            systest[s][met] = {}\n",
    "            for w in which_weight_schemes:\n",
    "                systest[s][met][w] = np.empty(M_classes+1)\n",
    "        m = -1\n",
    "        temp_cm = starter\n",
    "        systest[s]['cm'] = np.empty((M_classes+1, M_classes, M_classes))\n",
    "#         systest[s]['probs'] = np.empty((M_classes+1, N_objects, M_classes))\n",
    "        temp_prob = classifier.classify(temp_cm, minitruth, delta=delta, other=False)\n",
    "#         systest[s]['probs'][0] = temp_prob\n",
    "        isolated = range(N_objects)\n",
    "        while m < M_classes:\n",
    "            temp_cm = make_cm(temp_cm, m, s)\n",
    "            systest[s]['cm'][m+1] = temp_cm\n",
    "            temp_prob[isolated] = classifier.classify(temp_cm, minitruth[isolated], delta=delta, other=False)\n",
    "#             systest[s]['probs'][m+1] = temp_prob\n",
    "            for met in which_metrics:\n",
    "                D = met_evals[met]\n",
    "                for w in which_weight_schemes.keys():\n",
    "                    metval = D.evaluate(temp_prob, minitruth, averaging=which_weight_schemes[w])\n",
    "                    systest[s][met][w][m+1] = metval\n",
    "#             print(len(np.ones(N_objects)[np.argmax(systest[s]['probs'][m+1], axis=1) == minitruth]))\n",
    "            thingtoprint = np.sum(np.ones(N_objects)[np.argmax(temp_prob, axis=1) == minitruth])\n",
    "            print('how many would be right by MAP with systematic '+s+' and '+str(m+1)+' affected classes? '+\n",
    "                    str(thingtoprint)+' or '+str(thingtoprint/float(N_objects)))\n",
    "            m += 1\n",
    "            isolated = np.where(minitruth == m)[0]\n",
    "#         print(s+' on '+name)\n",
    "    collector[name] = systest\n",
    "    if fn is not None:\n",
    "        with open(fn, 'wb') as place:\n",
    "            pickle.dump(collector, place)\n",
    "    return collector"
   ]
  },
  {
   "cell_type": "code",
   "execution_count": 26,
   "metadata": {},
   "outputs": [],
   "source": [
    "def load_collector(fn):\n",
    "    with open(fn, 'rb') as place:\n",
    "        collector = pickle.load(place)\n",
    "#     print('delta='+str(collector['delta']))\n",
    "    return collector"
   ]
  },
  {
   "cell_type": "code",
   "execution_count": 27,
   "metadata": {},
   "outputs": [],
   "source": [
    "# # connect lines along systematic, weighting, and affected class\n",
    "# def sys_only_plot(dataset, metric_info, shapes, styles, fn=''):\n",
    "    \n",
    "#     met_inf = list(metric_info.keys())\n",
    "#     systematics = list(dataset.keys())\n",
    "#     fig = pylab.figure(figsize=(10.2, 10.))\n",
    "#     bigAxes = pylab.axes(frameon=False)     # hide frame\n",
    "#     bigAxes.set_xticks([])                        # don't want to see any ticks on this axis\n",
    "#     bigAxes.set_yticks([])\n",
    "#     bigAxesP = bigAxes.twinx()\n",
    "#     bigAxesP.set_yticks([])\n",
    "#     bigAxes.set_ylabel(met_inf[0], fontsize=20, labelpad=25, color=metric_info[met_inf[0]])\n",
    "#     bigAxes.set_xlabel(r'number of classes affected', fontsize=20, labelpad=25)\n",
    "#     bigAxesP.set_ylabel(met_inf[1], rotation=270, fontsize=20, \n",
    "#                         labelpad=50, color=metric_info[met_inf[1]])\n",
    "#     bigAxes.set_title(fn+' plus systematics')\n",
    "#     for si in range(len(systematics)):\n",
    "#         s = systematics[si]\n",
    "#         ax = fig.add_subplot(221+si)\n",
    "#         axp = ax.twinx()\n",
    "#         ax.set_xticks([0, 4, 8, 12])\n",
    "# #         ax.set_yticks([0.5, 1.5, 2.5, 3.5])\n",
    "# #         axp.set_yticks([0.02, 0.04, 0.06, 0.08, 0.1])\n",
    "#         ax.set_xticklabels([])\n",
    "# #         ax.set_yticklabels([])\n",
    "# #         axp.set_yticklabels([])\n",
    "# #         if si > 1:\n",
    "#         ax.set_xticklabels([0, 4, 8, 12])\n",
    "# #         if si%2 == 1:\n",
    "# #         axp.set_yticklabels([0.02, 0.04, 0.06, 0.08, 0.1])\n",
    "# #         else: \n",
    "# #         ax.set_yticklabels([0.5, 1.5, 2.5, 3.5])\n",
    "            \n",
    "#         position = ax.get_position()\n",
    "\n",
    "#         position.x0 += 0.01\n",
    "#         position.y0 += 0.02\n",
    "#         position.x1 += 0.01\n",
    "#         position.y1 += 0.02\n",
    "#         ax.set_position(position)\n",
    "\n",
    "#         ax.text(.5, .9, s, \n",
    "#                 horizontalalignment='center',\n",
    "#                 transform=ax.transAxes, fontsize=20)\n",
    "#         for w in which_weight_schemes:\n",
    "#             ax.plot(np.arange(M_classes+1)-0.1, dataset[s][met_inf[0]][w],\n",
    "#                   marker=shapes[s], linestyle=styles[w],\n",
    "#                   alpha=0.5, c=metric_info[met_inf[0]])\n",
    "#             axp.plot(np.arange(M_classes+1)+0.1, dataset[s][met_inf[1]][w],\n",
    "#                   marker=shapes[s], linestyle=styles[w],\n",
    "#                   alpha=0.5, c=metric_info[met_inf[1]])\n",
    "# #         ax.set_ylim(-0.05, 10.)\n",
    "# #         axp.set_ylim(-0.001, 0.151)\n",
    "#         ax.set_xlim(-0.5, 13.5)\n",
    "    \n",
    "#     fig.tight_layout()\n",
    "#     fig.subplots_adjust(hspace=0.01)#, wspace=0.01)\n",
    "#     pylab.savefig('fig/systematics_only'+fn+'.png', dpi=250)\n",
    "#     pylab.show()\n",
    "#     return"
   ]
  },
  {
   "cell_type": "markdown",
   "metadata": {},
   "source": [
    "### Dirichlet perturbation"
   ]
  },
  {
   "cell_type": "code",
   "execution_count": 28,
   "metadata": {},
   "outputs": [],
   "source": [
    "M_classes = 2\n",
    "flat_factor = 1. / M_classes\n",
    "\n",
    "oom = 6\n",
    "generator = proclam.simulators.LogUnbalanced()\n",
    "N_objects = int(10 ** oom)\n",
    "minitruth = generator.simulate(M_classes, N_objects, base=oom)\n",
    "pops = np.histogram(minitruth, bins=range(M_classes+1))[0]\n",
    "# print(pops)\n",
    "minipops = np.empty(M_classes)\n",
    "for m in range(M_classes):\n",
    "    minipops[m] = np.log10(np.max((pops[m], 1.))) /np.log10(N_objects)\n",
    "\n",
    "possible_weights = np.linspace(0., 1., 11)\n",
    "weight_vecs = np.array([[i] + [(1. - i) / (M_classes - 1.)] * (M_classes - 1) for i in possible_weights])\n",
    "which_weight_schemes = {str(i): weight_vecs[i] for i in range(len(possible_weights))}\n",
    "\n",
    "fave_cmap = mpl.cm.winter_r\n",
    "alt_mega_test = load_collector('fig/test'+str(M_classes)+'_fromcmdm.pkl')"
   ]
  },
  {
   "cell_type": "markdown",
   "metadata": {},
   "source": [
    "## isolating the systematics with flat weights, relative to perfect"
   ]
  },
  {
   "cell_type": "code",
   "execution_count": 29,
   "metadata": {},
   "outputs": [
    {
     "name": "stdout",
     "output_type": "stream",
     "text": [
      "dirichlet=True, delta=0.01\n",
      "how many would be right by MAP with systematic almost and 0 affected classes? 1000000.0 or 1.0\n",
      "how many would be right by MAP with systematic almost and 1 affected classes? 1000000.0 or 1.0\n",
      "how many would be right by MAP with systematic almost and 2 affected classes? 1000000.0 or 1.0\n",
      "how many would be right by MAP with systematic noisy and 0 affected classes? 1000000.0 or 1.0\n",
      "how many would be right by MAP with systematic noisy and 1 affected classes? 999835.0 or 0.999835\n",
      "how many would be right by MAP with systematic noisy and 2 affected classes? 999617.0 or 0.999617\n",
      "how many would be right by MAP with systematic uncertain and 0 affected classes? 1000000.0 or 1.0\n",
      "how many would be right by MAP with systematic uncertain and 1 affected classes? 786858.0 or 0.786858\n",
      "how many would be right by MAP with systematic uncertain and 2 affected classes? 499486.0 or 0.499486\n",
      "how many would be right by MAP with systematic subsumed and 0 affected classes? 1000000.0 or 1.0\n",
      "how many would be right by MAP with systematic subsumed and 1 affected classes? 574659.0 or 0.574659\n",
      "how many would be right by MAP with systematic subsumed and 2 affected classes? 574659.0 or 0.574659\n"
     ]
    }
   ],
   "source": [
    "which_systematics = ['almost', 'noisy', 'uncertain', 'subsumed']\n",
    "starter = np.eye(M_classes) + np.asarray(1.e-8)\n",
    "starter = starter / np.sum(starter, axis=1)[:, np.newaxis]\n",
    "alt_mega_test = one_loop_naff(alt_mega_test, 'perfect', which_systematics, starter, dirichlet=True, fn='fig/test'+str(M_classes)+'_fromcmdm.pkl')\n",
    "# alt_mega_test = load_collector('fig/test'+str(M_classes)+'_fromcmdm.pkl')"
   ]
  },
  {
   "cell_type": "code",
   "execution_count": 30,
   "metadata": {},
   "outputs": [],
   "source": [
    "# cm_mega_plot(alt_mega_test['perfect'], which_systematics, m=12, fn='all_cmdm', numrows=2, numcols=2)\n",
    "# cm_mega_plot(alt_mega_test['perfect'], which_systematics, m=4, fn='perfect_fromcmdn', numrows=2, numcols=2)"
   ]
  },
  {
   "cell_type": "code",
   "execution_count": 31,
   "metadata": {},
   "outputs": [],
   "source": [
    "# sys_only_plot(alt_mega_test['perfect'], metric_info, all_shapes, all_styles, fn='perfect')"
   ]
  },
  {
   "cell_type": "markdown",
   "metadata": {},
   "source": [
    "## isolating the systematics with flat weights, relative to almost perfect"
   ]
  },
  {
   "cell_type": "code",
   "execution_count": 32,
   "metadata": {},
   "outputs": [
    {
     "name": "stdout",
     "output_type": "stream",
     "text": [
      "dirichlet=True, delta=0.01\n",
      "how many would be right by MAP with systematic noisy and 0 affected classes? 1000000.0 or 1.0\n",
      "how many would be right by MAP with systematic noisy and 1 affected classes? 999837.0 or 0.999837\n",
      "how many would be right by MAP with systematic noisy and 2 affected classes? 999634.0 or 0.999634\n",
      "how many would be right by MAP with systematic uncertain and 0 affected classes? 1000000.0 or 1.0\n",
      "how many would be right by MAP with systematic uncertain and 1 affected classes? 787171.0 or 0.787171\n",
      "how many would be right by MAP with systematic uncertain and 2 affected classes? 500475.0 or 0.500475\n",
      "how many would be right by MAP with systematic subsumed and 0 affected classes? 1000000.0 or 1.0\n",
      "how many would be right by MAP with systematic subsumed and 1 affected classes? 574659.0 or 0.574659\n",
      "how many would be right by MAP with systematic subsumed and 2 affected classes? 574659.0 or 0.574659\n"
     ]
    }
   ],
   "source": [
    "which_systematics = ['noisy', 'uncertain', 'subsumed']#['tunnel', 'noisy', 'uncertain', 'subsumed']\n",
    "starter = 0.5 * np.ones((M_classes, M_classes)) + 1.5 * np.eye(M_classes)\n",
    "starter = starter / np.sum(starter, axis=1)[:, np.newaxis]\n",
    "alt_mega_test = one_loop_naff(alt_mega_test, 'almost', which_systematics, starter, dirichlet=True, fn='fig/test'+str(M_classes)+'_fromcmdm.pkl')\n",
    "# alt_mega_test = load_collector('fig/test_fromcmdm.pkl')\n",
    "# mega_test = one_loop_naff(mega_test, 'almost', which_systematics, starter)"
   ]
  },
  {
   "cell_type": "code",
   "execution_count": 33,
   "metadata": {},
   "outputs": [],
   "source": [
    "# cm_mega_plot(mega_test['almost'], which_systematics, m=4, fn='almost', numrows=2, numcols=2)"
   ]
  },
  {
   "cell_type": "markdown",
   "metadata": {},
   "source": [
    "## isolating the systematics with flat weights, relative to noisy"
   ]
  },
  {
   "cell_type": "code",
   "execution_count": 34,
   "metadata": {},
   "outputs": [
    {
     "name": "stdout",
     "output_type": "stream",
     "text": [
      "dirichlet=True, delta=0.01\n",
      "how many would be right by MAP with systematic uncertain and 0 affected classes? 999646.0 or 0.999646\n",
      "how many would be right by MAP with systematic uncertain and 1 affected classes? 787545.0 or 0.787545\n",
      "how many would be right by MAP with systematic uncertain and 2 affected classes? 500726.0 or 0.500726\n",
      "how many would be right by MAP with systematic subsumed and 0 affected classes? 999619.0 or 0.999619\n",
      "how many would be right by MAP with systematic subsumed and 1 affected classes? 574588.0 or 0.574588\n",
      "how many would be right by MAP with systematic subsumed and 2 affected classes? 574599.0 or 0.574599\n"
     ]
    }
   ],
   "source": [
    "which_systematics = ['uncertain', 'subsumed']#['tunnel', 'almost', 'uncertain', 'subsumed']\n",
    "starter = 0.5 * np.ones((M_classes, M_classes)) + 0.5 * np.eye(M_classes)\n",
    "starter = starter / np.sum(starter, axis=1)[:, np.newaxis]\n",
    "alt_mega_test = one_loop_naff(alt_mega_test, 'noisy', which_systematics, starter, dirichlet=True, fn='fig/test'+str(M_classes)+'_fromcmdm.pkl')\n",
    "# alt_mega_test = load_collector('fig/test_fromcmdm.pkl')\n",
    "# mega_test = one_loop_naff(mega_test, 'noisy', which_systematics, starter)"
   ]
  },
  {
   "cell_type": "code",
   "execution_count": 35,
   "metadata": {},
   "outputs": [],
   "source": [
    "# cm_mega_plot(mega_test['noisy'], which_systematics, m=4, fn='noisy', numrows=2, numcols=2)"
   ]
  },
  {
   "cell_type": "markdown",
   "metadata": {},
   "source": [
    "## isolating the systematics with flat weights, relative to uncertain"
   ]
  },
  {
   "cell_type": "code",
   "execution_count": 36,
   "metadata": {},
   "outputs": [
    {
     "name": "stdout",
     "output_type": "stream",
     "text": [
      "dirichlet=True, delta=0.01\n",
      "how many would be right by MAP with systematic subsumed and 0 affected classes? 499687.0 or 0.499687\n",
      "how many would be right by MAP with systematic subsumed and 1 affected classes? 500247.0 or 0.500247\n",
      "how many would be right by MAP with systematic subsumed and 2 affected classes? 500738.0 or 0.500738\n"
     ]
    }
   ],
   "source": [
    "which_systematics = ['subsumed']#, 'tunnel']\n",
    "starter = np.ones((M_classes, M_classes)) + 1.e-8\n",
    "starter = starter / np.sum(starter, axis=1)[:, np.newaxis]\n",
    "# mega_test = one_loop_naff(mega_test, 'uncertain', which_systematics, starter)\n",
    "alt_mega_test = one_loop_naff(alt_mega_test, 'uncertain', which_systematics, starter, dirichlet=True, fn='fig/test'+str(M_classes)+'_fromcmdm.pkl')\n",
    "# alt_mega_test = load_collector('fig/test_fromcmdm.pkl')"
   ]
  },
  {
   "cell_type": "code",
   "execution_count": 37,
   "metadata": {},
   "outputs": [],
   "source": [
    "# cm_mega_plot(mega_test['uncertain'], which_systematics, m=4, fn='uncertain', numrows=2, numcols=2)"
   ]
  },
  {
   "cell_type": "markdown",
   "metadata": {},
   "source": [
    "## isolating the systematics relative to cruise"
   ]
  },
  {
   "cell_type": "code",
   "execution_count": 38,
   "metadata": {},
   "outputs": [],
   "source": [
    "# which_systematics = ['tunnel', 'almost', 'uncertain', 'noisy']\n",
    "# starter = np.eye(M_classes)\n",
    "# starter[1:] = np.zeros((M_classes-1, M_classes)) + starter[0, np.newaxis]\n",
    "# starter = starter / np.sum(starter, axis=1)[:, np.newaxis]\n",
    "# alt_mega_test = one_loop_naff(alt_mega_test, 'cruise', which_systematics, starter, dirichlet=True, fn='fig/test2_fromcmdm.pkl')\n",
    "# # alt_mega_test = load_collector('fig/test_fromcmdm.pkl')\n",
    "# # mega_test = one_loop_naff(mega_test, 'noisy', which_systematics, starter)"
   ]
  },
  {
   "cell_type": "markdown",
   "metadata": {},
   "source": [
    "## summary plots"
   ]
  },
  {
   "cell_type": "code",
   "execution_count": 39,
   "metadata": {},
   "outputs": [],
   "source": [
    "# def all_sys_only_plots(dataset, top_fn=''):\n",
    "#     sys_only_plot(dataset['uncertain'], metric_info, all_shapes, fn=top_fn+'_uncertain')\n",
    "#     sys_only_plot(dataset['perfect'], metric_info, all_shapes, fn=top_fn+'_perfect')\n",
    "#     sys_only_plot(dataset['almost'], metric_info, all_shapes, fn=top_fn+'_almost')\n",
    "#     sys_only_plot(dataset['noisy'], metric_info, all_shapes, fn=top_fn+'_noisy')"
   ]
  },
  {
   "cell_type": "markdown",
   "metadata": {},
   "source": [
    "## Revamping this summary plot for new results"
   ]
  },
  {
   "cell_type": "code",
   "execution_count": 40,
   "metadata": {},
   "outputs": [],
   "source": [
    "possible_weights = np.linspace(0., 1., 11)\n",
    "weight_vecs = np.array([[i] + [(1. - i) / (M_classes - 1.)] * (M_classes - 1) for i in possible_weights])\n",
    "which_weight_schemes = {str(i): weight_vecs[i] for i in range(len(possible_weights))}\n",
    "\n",
    "fave_cmap = mpl.cm.winter_r\n",
    "all_shapes = {'uncertain':'s', 'tunnel':'o', 'almost':'P', 'noisy':'X', 'subsumed': 'D', 'perfect': '*'}\n",
    "all_shapes_bg = {'perfect':(3,0,0), 'almost':(4,0,0), 'noisy':(4,0,45)}#, 'cruise':(3,0,180)}\n",
    "all_shapes_fg = {'uncertain':'.', 'almost':(4,2,0), 'noisy':(4,2,45), 'subsumed':(3,2,180)}#, 'tunnel':(3,2,0)\n",
    "\n",
    "alt_mega_test = load_collector('fig/test2_fromcmdm.pkl')"
   ]
  },
  {
   "cell_type": "code",
   "execution_count": 41,
   "metadata": {},
   "outputs": [],
   "source": [
    "minimal_data = {i:alt_mega_test[i] for i in alt_mega_test if (i!='delta' and i!='subsumed')}"
   ]
  },
  {
   "cell_type": "code",
   "execution_count": 42,
   "metadata": {},
   "outputs": [],
   "source": [
    "upper_data = {i:minimal_data[i] for i in minimal_data if i=='perfect'}\n",
    "middle_data = {i:minimal_data[i] for i in minimal_data if i!='perfect'}\n",
    "lower_data = {i:minimal_data[i] for i in minimal_data if (i!='cruise' and i!='uncertain')}\n",
    "for base in lower_data.keys():\n",
    "    lower_data[base] = {i:lower_data[base][i] for i in lower_data[base] if i!='subsumed'}\n",
    "for base in middle_data.keys():\n",
    "    middle_data[base] = {i:middle_data[base][i] for i in middle_data[base] if i=='subsumed'}#(base!='perfect' or i!='subsumed')}\n",
    "for base in upper_data.keys():\n",
    "    upper_data[base] = {i:upper_data[base][i] for i in upper_data[base] if i=='subsumed'}"
   ]
  },
  {
   "cell_type": "code",
   "execution_count": 43,
   "metadata": {},
   "outputs": [],
   "source": [
    "def complete_metric_plot(dataset, metric_names, xlims=None, ylims=None, fn='test_combo'):\n",
    "    \n",
    "#     systematics = dataset.keys()\n",
    "#     xs = np.arange(len(systematics))\n",
    "    fig, ax = plt.subplots(figsize=(5,5))\n",
    "    \n",
    "#     ax.text(.3, .95, r'color$\\sim w_{m}$', \n",
    "#             verticalalignment='center', transform=ax.transAxes, \n",
    "#             fontsize=10)\n",
    "#     ax.text(.3, .9, r'size$\\sim w_{m}$', \n",
    "#             verticalalignment='center', transform=ax.transAxes, \n",
    "#             fontsize=10)\n",
    "    fig.subplots_adjust(right=1.)\n",
    "#     handles = []\n",
    "#     seeds = []\n",
    "    bases, additions = [], []\n",
    "    for base in dataset.keys():# this is the base upon which a systematic was added\n",
    "        if base != 'uncertain':\n",
    "            bases.append(base)\n",
    "            for added in dataset[base].keys():# this is the systematic added on\n",
    "                additions.append(added)\n",
    "                xvals = [dataset[base][added][metric_names[0]][str(i)][1] for i in range(11)]\n",
    "                yvals = [dataset[base][added][metric_names[1]][str(i)][1] for i in range(11)]\n",
    "                ax.scatter(xvals, yvals,\n",
    "                  c=fave_cmap(np.flip(possible_weights)),\n",
    "                  s=100.,\n",
    "                  marker=all_shapes_bg[base],\n",
    "                  alpha=0.25)\n",
    "                ax.scatter(xvals, yvals,\n",
    "                  c=fave_cmap(possible_weights),\n",
    "#                   s=100.*miniweights[wi][m],\n",
    "                  marker=all_shapes_fg[added],\n",
    "                  alpha=0.5)\n",
    "#     for m in which_affected:\n",
    "#         one_seed = np.log10(max(1., N_objects * float(minipops[m]))) / 10.\n",
    "#         seeds.append(one_seed)\n",
    "#         for si in range(len(systematics)):\n",
    "#             s = systematics[si]\n",
    "#             for i in range(len(which_weighted)):\n",
    "#                 w = which_weighted[wi]\n",
    "# #                 rel_wt = (np.average(miniweights[wi][m]) - miniweights[wi][m][m]) / np.average(miniweights[wi][m]) / 2. + 0.5\n",
    "# #                 print(rel_wt)\n",
    "#                 ax.scatter(dataset[s][str(m)][metric_names[0]][w], dataset[s][str(m)][metric_names[1]][w],\n",
    "#                   c=mpl.cm.winter_r(possible_weights[i]),\n",
    "#                   s=100.*miniweights[wi][m],\n",
    "#                   marker=markerlist[si],\n",
    "#                   alpha=0.25)\n",
    "#     for si in range(len(systematics)):\n",
    "#         ax.scatter(0., 0., c='k',\n",
    "#                   marker=markerlist[si],\n",
    "#                   alpha=0.25, label=systematics[si])\n",
    "    bases = list(set(bases))\n",
    "    additions = list(set(additions))\n",
    "    b_handles, a_handles = [], []\n",
    "    for base in bases:\n",
    "        if base != 'uncertain':\n",
    "            thing = plt.scatter(-1., -1., label=base, color='k', alpha=0.25, marker=all_shapes_bg[base])\n",
    "            b_handles.append(thing)\n",
    "    bg_legend = plt.legend(handles=b_handles, loc='upper left')\n",
    "    for added in additions:\n",
    "        thing = plt.scatter(-1., -1., label=added, color='k', alpha=0.75, marker=all_shapes_fg[added])\n",
    "        a_handles.append(thing)\n",
    "    lax = plt.gca().add_artist(bg_legend)\n",
    "    plt.legend(handles=a_handles, loc='lower right', fontsize='large')\n",
    "\n",
    "    ax.set_xlabel(metric_names[0])\n",
    "    ax.set_ylabel(metric_names[1])\n",
    "    if xlims is not None:\n",
    "        ax.set_xlim(xlims[0], xlims[1])\n",
    "    if ylims is not None:\n",
    "        ax.set_ylim(ylims[0], ylims[1])\n",
    "    ax.semilogx()\n",
    "    ax.semilogy()\n",
    "#     ax.legend(loc='lower right')\n",
    "    \n",
    "#     seeds = np.array(seeds)\n",
    "#     print(seeds)\n",
    "#     axins = inset_axes(ax,\n",
    "#                     width=\"25%\",  # width = 25% of parent_bbox width\n",
    "#                     height=\"5%\",  # height : 5%\n",
    "#                     loc=2)\n",
    "#     mpl.colorbar.ColorbarBase(axins, cmap=mpl.cm.winter_r,\n",
    "#                                 norm=mpl.colors.Normalize(vmin=0., vmax=1.), \n",
    "#                               orientation='horizontal')\n",
    "#     axins.xaxis.set_ticks_position(\"top\")\n",
    "#     axins.xaxis.set_ticks(np.flip(seeds, axis=0))\n",
    "#     axins.xaxis.set_ticklabels([]) #rotation=270, fontsize=10)\n",
    "    cax = fig.add_axes([1., 0.125, 0.05, 0.745])#([0.05, 0.80, 0.9, 0.15])\n",
    "    cb = mpl.colorbar.ColorbarBase(cax, cmap=fave_cmap,\n",
    "                                norm=mpl.colors.Normalize(vmin=0., vmax=1.),\n",
    "                                orientation='vertical')\n",
    "    cb.set_label('Fractional Weight', rotation=270, labelpad=15.)\n",
    "    plt.subplots_adjust()\n",
    "#     plt.show()\n",
    "    plt.savefig('fig/'+fn+'.png', dpi=250)\n",
    "    plt.show()\n",
    "    plt.close()\n",
    "    return"
   ]
  },
  {
   "cell_type": "code",
   "execution_count": 44,
   "metadata": {},
   "outputs": [
    {
     "data": {
      "image/png": "[encoded data removed]",
      "text/plain": [
       "<Figure size 360x360 with 2 Axes>"
      ]
     },
     "metadata": {
      "needs_background": "light"
     },
     "output_type": "display_data"
    }
   ],
   "source": [
    "complete_metric_plot(minimal_data, ['Brier', 'LogLoss'], fn='all', xlims=(1.e-2, 1.05), ylims=(1.e-2, 19.5))"
   ]
  },
  {
   "cell_type": "code",
   "execution_count": 45,
   "metadata": {},
   "outputs": [
    {
     "data": {
      "image/png": "[encoded data removed]",
      "text/plain": [
       "<Figure size 360x360 with 2 Axes>"
      ]
     },
     "metadata": {
      "needs_background": "light"
     },
     "output_type": "display_data"
    }
   ],
   "source": [
    "complete_metric_plot(upper_data, ['Brier', 'LogLoss'], fn='upper_zoom', xlims=(0., 1.05), ylims=(0., 19.5))"
   ]
  },
  {
   "cell_type": "code",
   "execution_count": 46,
   "metadata": {},
   "outputs": [
    {
     "data": {
      "image/png": "[encoded data removed]",
      "text/plain": [
       "<Figure size 360x360 with 2 Axes>"
      ]
     },
     "metadata": {
      "needs_background": "light"
     },
     "output_type": "display_data"
    }
   ],
   "source": [
    "complete_metric_plot(middle_data, ['Brier', 'LogLoss'], fn='middle_zoom', xlims=(0., 0.675), ylims=(0., 1.75))"
   ]
  },
  {
   "cell_type": "code",
   "execution_count": 47,
   "metadata": {},
   "outputs": [
    {
     "data": {
      "image/png": "[encoded data removed]",
      "text/plain": [
       "<Figure size 360x360 with 2 Axes>"
      ]
     },
     "metadata": {
      "needs_background": "light"
     },
     "output_type": "display_data"
    }
   ],
   "source": [
    "complete_metric_plot(lower_data, ['Brier', 'LogLoss'], fn='lower_zoom', xlims=(0., 0.275), ylims=(0., 0.75))"
   ]
  },
  {
   "cell_type": "code",
   "execution_count": 48,
   "metadata": {},
   "outputs": [],
   "source": [
    "alt_mega_test = load_collector('fig/test2_fromcmdm.pkl')"
   ]
  },
  {
   "cell_type": "code",
   "execution_count": null,
   "metadata": {},
   "outputs": [],
   "source": [
    "for base in alt_mega_test.keys():\n",
    "    for added in alt_mega_test[base].keys():\n",
    "        numerator = alt_mega_test[base][added]['LogLoss']['10'][1] - alt_mega_test[base][added]['LogLoss']['0'][1]\n",
    "        denominator = alt_mega_test[base][added]['Brier']['10'][1] - alt_mega_test[base][added]['Brier']['0'][1]\n",
    "        minx = round(alt_mega_test[base][added]['Brier']['0'][1], 4)\n",
    "        miny = round(alt_mega_test[base][added]['LogLoss']['0'][1], 4)\n",
    "        maxx = round(alt_mega_test[base][added]['Brier']['10'][1], 4)\n",
    "        maxy = round(alt_mega_test[base][added]['LogLoss']['10'][1], 4)\n",
    "        minimum = (minx, miny)\n",
    "        maximum = (maxx, maxy)\n",
    "        print(base+' plus '+added)\n",
    "        print('slope = '+str(round(numerator / denominator, 4)))\n",
    "        print('extrema = '+str((minimum, maximum)))"
   ]
  },
  {
   "cell_type": "code",
   "execution_count": null,
   "metadata": {},
   "outputs": [],
   "source": [
    "order = ['upper', 'middle', 'lower']\n",
    "lims = {}\n",
    "lims['upper'] = (1.05, 19.5)\n",
    "lims['middle'] = (0.675, 1.75)\n",
    "lims['lower'] = (0.275, 0.75)\n",
    "lims['all'] = (1.1, 20.)\n",
    "boxcols = {}\n",
    "boxcols['lower'] = '#D179F2'\n",
    "boxcols['middle'] = '#F27979'\n",
    "boxcols['upper'] = '#FFE17F'\n",
    "boxcols['all'] = 'None'\n",
    "multiscaledata = {}\n",
    "multiscaledata['all'] = minimal_data\n",
    "multiscaledata['upper'] = upper_data\n",
    "multiscaledata['middle'] = middle_data\n",
    "multiscaledata['lower'] = lower_data\n",
    "titles = {}\n",
    "titles['upper'] = 'subsumed systematic on perfect baseline'\n",
    "titles['middle'] = 'subsumed systematic on non-perfect baselines'\n",
    "titles['lower'] = 'non-subsumed systematics on all baselines'"
   ]
  },
  {
   "cell_type": "code",
   "execution_count": null,
   "metadata": {},
   "outputs": [],
   "source": [
    "def paneled_metric_plot(full_dataset, metric_names, order, lims, boxcols, titles, fn='multipanel_res'):\n",
    "\n",
    "    from mpl_toolkits.axes_grid1.inset_locator import inset_axes\n",
    "    from mpl_toolkits.axes_grid1.inset_locator import mark_inset\n",
    "\n",
    "    fig = pylab.figure(figsize=(17.5, 5))\n",
    "    bigAxes = pylab.axes(frameon=False)     # hide frame\n",
    "    bigAxes.set_xticks([])                        # don't want to see any ticks on this axis\n",
    "    bigAxes.set_yticks([])\n",
    "    bigAxes.set_xlabel(metric_names[0], fontsize=20, labelpad=25)\n",
    "    bigAxes.set_ylabel(metric_names[1], fontsize=20, labelpad=30)\n",
    "    \n",
    "    axupper = fig.add_subplot(131)\n",
    "    \n",
    "    axmiddle = inset_axes(axupper, width=\"100%\", height=\"100%\",\n",
    "                   bbox_to_anchor=(1.10, 0., 1., 1.),\n",
    "                   bbox_transform=axupper.transAxes, loc=2, borderpad=0)\n",
    "    axmiddle.tick_params(left=True, right=False, labelleft=True, labelright=False)\n",
    "    mark_inset(axupper, axmiddle, loc1=2, loc2=3, fc=\"none\", ec=\"0.5\")\n",
    "    \n",
    "    axlower = inset_axes(axmiddle, width=\"100%\", height=\"100%\",\n",
    "                   bbox_to_anchor=(1.10, 0., 1., 1.),\n",
    "                   bbox_transform=axmiddle.transAxes, loc=2, borderpad=0)\n",
    "    axlower.tick_params(left=True, right=False, labelleft=True, labelright=False)\n",
    "    mark_inset(axmiddle, axlower, loc1=2, loc2=3, fc=\"none\", ec=\"0.5\")\n",
    "    \n",
    "    # make a list of these axes\n",
    "    # copy the loop from below\n",
    "    \n",
    "    allmyaxes = [axupper, axmiddle, axlower]\n",
    "    \n",
    "    for i in range(3):\n",
    "        scale = order[i]\n",
    "        ax = allmyaxes[i]\n",
    "    \n",
    "        dataset = full_dataset[scale]\n",
    "        \n",
    "        xlims = (-0.1 * lims[scale][0], lims[scale][0])\n",
    "        ylims = (-0.1 * lims[scale][1], lims[scale][1])\n",
    "\n",
    "        bases, additions = [], []\n",
    "        for base in dataset.keys():# this is the base upon which a systematic was added\n",
    "            if base != 'uncertain':\n",
    "                bases.append(base + ' as baseline')\n",
    "                for added in dataset[base].keys():# this is the systematic added on\n",
    "                    additions.append(added + ' as systematic')\n",
    "                    xvals = [dataset[base][added][metric_names[0]][str(i)][1] for i in range(11)]\n",
    "                    yvals = [dataset[base][added][metric_names[1]][str(i)][1] for i in range(11)]\n",
    "                    ax.scatter(xvals, yvals,\n",
    "                      c=fave_cmap(np.flip(possible_weights)),\n",
    "                      s=150.,\n",
    "                      marker=all_shapes_bg[base],\n",
    "                      alpha=0.25)\n",
    "                    ax.scatter(xvals, yvals,\n",
    "                      c=fave_cmap(possible_weights),\n",
    "                      s=125.,\n",
    "#                   s=100.*miniweights[wi][m],\n",
    "                      marker=all_shapes_fg[added],\n",
    "                      alpha=0.5)\n",
    "        ax.set_title(titles[order[i]], fontsize=17.5)\n",
    "        bases = list(set(bases))\n",
    "        additions = list(set(additions))\n",
    "        all_labels = bases+additions\n",
    "        b_handles, a_handles = [], []\n",
    "        for base in bases:\n",
    "            thing = ax.scatter(-1., -1., label=base, color='k', alpha=0.25, marker=all_shapes_bg[base[:-12]])\n",
    "            b_handles.append(thing)\n",
    "#         bg_legend = ax.legend(handles=b_handles, loc='upper left', fontsize='large')\n",
    "        for added in additions:\n",
    "            thing = ax.scatter(-1., -1., label=added, color='k', alpha=0.75, marker=all_shapes_fg[added[:-14]])\n",
    "            a_handles.append(thing)\n",
    "#         lax = plt.gca().add_artist(bg_legend)\n",
    "#         fg_legend = ax.legend(handles=a_handles, loc='lower right', fontsize='large')\n",
    "        if i != 2:\n",
    "            ax.legend(handles=b_handles+a_handles, loc='upper left', fontsize='large')\n",
    "        else:\n",
    "            axins = inset_axes(ax,\n",
    "                    width=\"2%\",  # width = 25% of parent_bbox width\n",
    "                    height=\"90%\",  # height : 5%\n",
    "                    loc=4)\n",
    "            mpl.colorbar.ColorbarBase(axins, cmap=fave_cmap,\n",
    "                                norm=mpl.colors.Normalize(vmin=0., vmax=1.))\n",
    "#             axins.xaxis.set_ticks_position(\"left\")\n",
    "#     axins.xaxis.set_ticks(np.flip(seeds, axis=0))\n",
    "#             axins.xaxis.set_ticklabels([]) #rotation=270, fontsize=10)\n",
    "\n",
    "#     cax = fig.add_axes([1., 0.125, 0.05, 0.745])#([0.05, 0.80, 0.9, 0.15])\n",
    "#     cb = mpl.colorbar.ColorbarBase(cax, cmap=fave_cmap,\n",
    "#                                 norm=mpl.colors.Normalize(vmin=0., vmax=1.),\n",
    "#                                 orientation='vertical')\n",
    "            axins.set_ylabel('Fractional Weight', rotation=270, labelpad=15., fontsize=15.)\n",
    "            ax.legend(handles=b_handles+a_handles, loc='lower right', fontsize='large')\n",
    "        if xlims is not None:\n",
    "            ax.set_xlim(xlims[0], xlims[1])\n",
    "        if ylims is not None:\n",
    "            ax.set_ylim(ylims[0], ylims[1])\n",
    "            \n",
    "    plt.subplots_adjust()\n",
    "\n",
    "#     fig.tight_layout()\n",
    "    fig.subplots_adjust(hspace=0.01, wspace=0.01)\n",
    "    pylab.savefig('fig/'+fn+'.png', dpi=250)\n",
    "    pylab.show()\n",
    "    return"
   ]
  },
  {
   "cell_type": "code",
   "execution_count": null,
   "metadata": {
    "scrolled": true
   },
   "outputs": [],
   "source": [
    "paneled_metric_plot(multiscaledata, ['Brier', 'LogLoss'], order, lims, boxcols, titles, fn='multipanel_res')"
   ]
  },
  {
   "cell_type": "code",
   "execution_count": null,
   "metadata": {},
   "outputs": [],
   "source": []
  },
  {
   "cell_type": "code",
   "execution_count": null,
   "metadata": {},
   "outputs": [],
   "source": [
    "def paneled_metric_plot(full_dataset, metric_names, order, lims, boxcols, fn='multipanel_res'):\n",
    "    \n",
    "    fig = pylab.figure(figsize=(10, 10))\n",
    "#     fig = pylab.figure(figsize=(10.2, 10.))\n",
    "    bigAxes = pylab.axes(frameon=False)     # hide frame\n",
    "    bigAxes.set_xticks([])                        # don't want to see any ticks on this axis\n",
    "    bigAxes.set_yticks([])\n",
    "    bigAxes.set_xlabel(metric_names[0], fontsize=20, labelpad=25)\n",
    "    bigAxes.set_ylabel(metric_names[1], fontsize=20, labelpad=25)\n",
    "    \n",
    "    for i in range(4):\n",
    "        scale = order[i]\n",
    "        ax = fig.add_subplot(2, 2, i+1)\n",
    "    \n",
    "        dataset = full_dataset[scale]\n",
    "        \n",
    "        xlims = (0, lims[scale][0])\n",
    "        ylims = (0, lims[scale][1])\n",
    "        \n",
    "        for o in order[1:]:\n",
    "            if lims[scale][0] > lims[o][0] and lims[scale][1] > lims[o][1]:\n",
    "                ax.fill_between([0., lims[o][0]], 0., lims[o][1], color=boxcols[o], alpha=0.2)\n",
    "    \n",
    "#     systematics = dataset.keys()\n",
    "#     xs = np.arange(len(systematics))\n",
    "#     fig, ax = plt.subplots(figsize=(5,5))\n",
    "    \n",
    "#     ax.text(.3, .95, r'color$\\sim w_{m}$', \n",
    "#             verticalalignment='center', transform=ax.transAxes, \n",
    "#             fontsize=10)\n",
    "#     ax.text(.3, .9, r'size$\\sim w_{m}$', \n",
    "#             verticalalignment='center', transform=ax.transAxes, \n",
    "#             fontsize=10)\n",
    "#     fig.subplots_adjust(right=1.)\n",
    "#     handles = []\n",
    "#     seeds = []\n",
    "        bases, additions = [], []\n",
    "        for base in dataset.keys():# this is the base upon which a systematic was added\n",
    "            if base != 'uncertain':\n",
    "                bases.append(base)\n",
    "                for added in dataset[base].keys():# this is the systematic added on\n",
    "                    additions.append(added)\n",
    "                    xvals = [dataset[base][added][metric_names[0]][str(i)][1] for i in range(11)]\n",
    "                    yvals = [dataset[base][added][metric_names[1]][str(i)][1] for i in range(11)]\n",
    "                    ax.scatter(xvals, yvals,\n",
    "                      c=fave_cmap(np.flip(possible_weights)),\n",
    "                      s=100.,\n",
    "                      marker=all_shapes_bg[base],\n",
    "                      alpha=0.25)\n",
    "                    ax.scatter(xvals, yvals,\n",
    "                      c=fave_cmap(possible_weights),\n",
    "#                   s=100.*miniweights[wi][m],\n",
    "                      marker=all_shapes_fg[added],\n",
    "                      alpha=0.5)\n",
    "#     for m in which_affected:\n",
    "#         one_seed = np.log10(max(1., N_objects * float(minipops[m]))) / 10.\n",
    "#         seeds.append(one_seed)\n",
    "#         for si in range(len(systematics)):\n",
    "#             s = systematics[si]\n",
    "#             for i in range(len(which_weighted)):\n",
    "#                 w = which_weighted[wi]\n",
    "# #                 rel_wt = (np.average(miniweights[wi][m]) - miniweights[wi][m][m]) / np.average(miniweights[wi][m]) / 2. + 0.5\n",
    "# #                 print(rel_wt)\n",
    "#                 ax.scatter(dataset[s][str(m)][metric_names[0]][w], dataset[s][str(m)][metric_names[1]][w],\n",
    "#                   c=mpl.cm.winter_r(possible_weights[i]),\n",
    "#                   s=100.*miniweights[wi][m],\n",
    "#                   marker=markerlist[si],\n",
    "#                   alpha=0.25)\n",
    "#     for si in range(len(systematics)):\n",
    "#         ax.scatter(0., 0., c='k',\n",
    "#                   marker=markerlist[si],\n",
    "#                   alpha=0.25, label=systematics[si])\n",
    "        bases = list(set(bases))\n",
    "        additions = list(set(additions))\n",
    "        b_handles, a_handles = [], []\n",
    "        for base in bases:\n",
    "            thing = plt.scatter(-1., -1., label=base, color='k', alpha=0.25, marker=all_shapes_bg[base])\n",
    "            b_handles.append(thing)\n",
    "        bg_legend = plt.legend(handles=b_handles, loc='upper left', fontsize='large')\n",
    "        if i > 0:\n",
    "            frame = bg_legend.get_frame()\n",
    "            frame.set_alpha(0.2)\n",
    "            frame.set_facecolor(boxcols[scale])\n",
    "        for added in additions:\n",
    "            thing = plt.scatter(-1., -1., label=added, color='k', alpha=0.75, marker=all_shapes_fg[added])\n",
    "            a_handles.append(thing)\n",
    "        lax = plt.gca().add_artist(bg_legend)\n",
    "        fg_legend = plt.legend(handles=a_handles, loc='lower right', fontsize='large')\n",
    "        if i > 0:\n",
    "            frame = fg_legend.get_frame()\n",
    "            frame.set_alpha(0.2)\n",
    "            frame.set_facecolor(boxcols[scale])\n",
    "#         ax.set_xlabel(metric_names[0])\n",
    "#         ax.set_ylabel(metric_names[1])\n",
    "        if xlims is not None:\n",
    "            ax.set_xlim(xlims[0], xlims[1])\n",
    "        if ylims is not None:\n",
    "            ax.set_ylim(ylims[0], ylims[1])\n",
    "        if i%2 == 1:\n",
    "            ax.yaxis.tick_right()\n",
    "        if i < 2:\n",
    "            ax.xaxis.tick_top()\n",
    "        if i == 1: \n",
    "#             ax.set_yticklabels([])\n",
    "            \n",
    "#     ax.semilogx()\n",
    "#     ax.semilogy()\n",
    "#     ax.legend(loc='lower right')\n",
    "    \n",
    "#     seeds = np.array(seeds)\n",
    "#     print(seeds)\n",
    "            axins = inset_axes(ax,\n",
    "                    width=\"5%\",  # width = 25% of parent_bbox width\n",
    "                    height=\"75%\",  # height : 5%\n",
    "                    loc=6)\n",
    "            mpl.colorbar.ColorbarBase(axins, cmap=fave_cmap,\n",
    "                                norm=mpl.colors.Normalize(vmin=0., vmax=1.))\n",
    "#             axins.xaxis.set_ticks_position(\"left\")\n",
    "#     axins.xaxis.set_ticks(np.flip(seeds, axis=0))\n",
    "            axins.xaxis.set_ticklabels([]) #rotation=270, fontsize=10)\n",
    "\n",
    "#     cax = fig.add_axes([1., 0.125, 0.05, 0.745])#([0.05, 0.80, 0.9, 0.15])\n",
    "#     cb = mpl.colorbar.ColorbarBase(cax, cmap=fave_cmap,\n",
    "#                                 norm=mpl.colors.Normalize(vmin=0., vmax=1.),\n",
    "#                                 orientation='vertical')\n",
    "            axins.set_ylabel('Fractional Weight', rotation=270, labelpad=15., fontsize=15.)\n",
    "    plt.subplots_adjust()\n",
    "\n",
    "#     fig.tight_layout()\n",
    "    fig.subplots_adjust(hspace=0.01, wspace=0.01)\n",
    "    pylab.savefig('fig/'+fn+'.png', dpi=250)\n",
    "    pylab.show()\n",
    "    return"
   ]
  },
  {
   "cell_type": "markdown",
   "metadata": {},
   "source": [
    "# Propagating Dirichlet change: not done past here"
   ]
  },
  {
   "cell_type": "markdown",
   "metadata": {},
   "source": [
    "# same thing, but as a function of the weight on that class rather than number of classes affected\n",
    "\n",
    "note, specifying class 6 because of weird behavior when there are no true class members"
   ]
  },
  {
   "cell_type": "code",
   "execution_count": null,
   "metadata": {},
   "outputs": [],
   "source": [
    "relwttest = {}\n",
    "abswttest = {}\n",
    "only_weight = 0\n",
    "\n",
    "weight_choices = {}\n",
    "big_W = {}\n",
    "\n",
    "weight_choices['rel'] = np.arange(0., 2.25, 0.25)\n",
    "big_W['rel'] = len(weight_choices['rel'])\n",
    "\n",
    "weight_choices['abs'] = np.arange(0., 1.1, 0.1)\n",
    "big_W['abs'] = len(weight_choices['abs'])\n",
    "\n",
    "wts = {}\n",
    "wts['rel'] = np.ones((big_W['rel'], M_classes))\n",
    "for wi in range(big_W['rel']):\n",
    "    wts['rel'][wi][only_weight] = weight_choices['rel'][wi]\n",
    "wts['rel'] = wts['rel'] / np.sum(wts['rel'], axis=1)[:, np.newaxis]\n",
    "\n",
    "wts['abs'] = np.empty((big_W['abs'], M_classes))\n",
    "for wi in range(big_W['abs']):\n",
    "    wts['abs'][wi] = (1. - weight_choices['abs'][wi]) / (M_classes - 1.) * np.ones(M_classes)\n",
    "    wts['abs'][wi][only_weight] = weight_choices['abs'][wi]\n",
    "wts['abs'] = wts['abs'] / np.sum(wts['abs'], axis=1)[:, np.newaxis]\n",
    "\n",
    "which_baselines = {'uncertain': np.ones((M_classes, M_classes)), \n",
    "                   'perfect': np.eye(M_classes), \n",
    "                   'almost': 0.5 * np.ones((M_classes, M_classes)) + 1.5 * np.eye(M_classes), \n",
    "                   'noisy': 0.5 * np.ones((M_classes, M_classes)) + 0.5 * np.eye(M_classes)}"
   ]
  },
  {
   "cell_type": "code",
   "execution_count": null,
   "metadata": {},
   "outputs": [],
   "source": [
    "def one_loop_wt(collector, name, which_systematics, style='rel'):# mega_test, 'reltoagnostic'\n",
    "    systest = {}\n",
    "    starter = which_systematics[name]\n",
    "    cm = make_cm(starter, only_weight, 'tunnel')\n",
    "    probs = classifier.classify(cm, minitruth, other=False)\n",
    "    systest['cm'] = starter\n",
    "    systest['probs'] = probs\n",
    "    for met in which_metrics:\n",
    "        systest[met] = []\n",
    "    for wi in range(big_W[style]):\n",
    "        w = weight_choices[style][wi]\n",
    "#         systest['weights'].append(wts[wi])\n",
    "        for met in which_metrics:\n",
    "            D = met_evals[met]\n",
    "            metval = D.evaluate(probs, minitruth, averaging=wts[style][wi])\n",
    "            systest[met].append(metval)\n",
    "#                 print(s+' on '+name+' with '+str(m)+': '+met+' = '+str(metval))\n",
    "    collector[name] = systest\n",
    "    return collector"
   ]
  },
  {
   "cell_type": "code",
   "execution_count": null,
   "metadata": {},
   "outputs": [],
   "source": [
    "abswttest = one_loop_wt(abswttest, 'uncertain', which_baselines, style='abs')\n",
    "abswttest = one_loop_wt(abswttest, 'perfect', which_baselines, style='abs')\n",
    "abswttest = one_loop_wt(abswttest, 'almost', which_baselines, style='abs')\n",
    "abswttest = one_loop_wt(abswttest, 'noisy', which_baselines, style='abs')"
   ]
  },
  {
   "cell_type": "code",
   "execution_count": null,
   "metadata": {},
   "outputs": [],
   "source": [
    "relwttest = one_loop_wt(relwttest, 'uncertain', which_baselines, style='rel')\n",
    "relwttest = one_loop_wt(relwttest, 'perfect', which_baselines, style='rel')\n",
    "relwttest = one_loop_wt(relwttest, 'almost', which_baselines, style='rel')\n",
    "relwttest = one_loop_wt(relwttest, 'noisy', which_baselines, style='rel')"
   ]
  },
  {
   "cell_type": "code",
   "execution_count": null,
   "metadata": {},
   "outputs": [],
   "source": [
    "# connect lines along systematic, weighting, and affected class\n",
    "def wt_only_plot(dataset, metric_info, shapes, style='rel'):\n",
    "    baselines = dataset.keys()\n",
    "    fig = pylab.figure(figsize=(10.2, 10.))\n",
    "    bigAxes = pylab.axes(frameon=False)     # hide frame\n",
    "    bigAxes.set_xticks([])                        # don't want to see any ticks on this axis\n",
    "    bigAxes.set_yticks([])\n",
    "    bigAxesP = bigAxes.twinx()\n",
    "    bigAxesP.set_yticks([])\n",
    "    bigAxes.set_ylabel(metric_info.keys()[0], fontsize=20, labelpad=25, color=metric_info.values()[0])\n",
    "    bigAxes.set_xlabel(style+r'. weight on class', fontsize=20, labelpad=25)\n",
    "    bigAxesP.set_ylabel(metric_info.keys()[1], rotation=270, fontsize=20, \n",
    "                        labelpad=50, color=metric_info.values()[1])\n",
    "    bigAxes.set_title('tunnel on baselines')\n",
    "    for si in range(len(baselines)):\n",
    "        s = baselines[si]\n",
    "        ax = fig.add_subplot(221+si)\n",
    "        axp = ax.twinx()\n",
    "        ax.set_xticks(wts[style].T[0])\n",
    "        ax.set_yticks([0.5, 1.5, 2.5, 3.5])\n",
    "        axp.set_yticks([0.02, 0.04, 0.06, 0.08, 0.1])\n",
    "        ax.set_xticklabels([])\n",
    "        ax.set_yticklabels([])\n",
    "        axp.set_yticklabels([])\n",
    "        if si > 1:\n",
    "            wt_labels = [str(w)[:3] for w in weight_choices[style]]\n",
    "            ax.set_xticklabels(wt_labels)\n",
    "        if si%2 == 1:\n",
    "            axp.set_yticklabels([0.02, 0.04, 0.06, 0.08, 0.1])\n",
    "        else: \n",
    "            ax.set_yticklabels([0.5, 1.5, 2.5, 3.5])\n",
    "            \n",
    "        position = ax.get_position()\n",
    "\n",
    "        position.x0 += 0.01\n",
    "        position.y0 += 0.02\n",
    "        position.x1 += 0.01\n",
    "        position.y1 += 0.02\n",
    "        ax.set_position(position)\n",
    "        \n",
    "        ax.text(.5, .9, s, \n",
    "                horizontalalignment='center',\n",
    "                transform=ax.transAxes, fontsize=20)\n",
    "        ax.plot(wts[style].T[0], dataset[s][metric_info.keys()[0]],\n",
    "                  marker=shapes[s],\n",
    "                  alpha=0.5, c=metric_info.values()[0])\n",
    "        axp.plot(wts[style].T[0], dataset[s][metric_info.keys()[1]],\n",
    "                  marker=shapes[s],\n",
    "                  alpha=0.5, c=metric_info.values()[1])\n",
    "        ax.set_ylim(-0.05, 2.75)\n",
    "        axp.set_ylim(-0.001, 0.081)\n",
    "#         ax.set_xlim(-0.25, 2.25)\n",
    "    \n",
    "    fig.tight_layout()\n",
    "    fig.subplots_adjust(hspace=0.01, wspace=0.01)\n",
    "    pylab.savefig('fig/tunnel_'+style+'_weights_on_baselines.png', dpi=250)\n",
    "    pylab.show()\n",
    "    return"
   ]
  },
  {
   "cell_type": "code",
   "execution_count": null,
   "metadata": {},
   "outputs": [],
   "source": [
    "wt_only_plot(abswttest, metric_info, all_shapes, style='abs')"
   ]
  },
  {
   "cell_type": "code",
   "execution_count": null,
   "metadata": {},
   "outputs": [],
   "source": [
    "wt_only_plot(relwttest, metric_info, all_shapes, style='rel')"
   ]
  },
  {
   "cell_type": "markdown",
   "metadata": {},
   "source": [
    "# probably not using below here"
   ]
  },
  {
   "cell_type": "code",
   "execution_count": null,
   "metadata": {},
   "outputs": [],
   "source": [
    "def make_wv(m, wt_kw):\n",
    "#     wv = np.ones(M_classes)\n",
    "    if wt_kw == 'by pop':\n",
    "        wv = minipops\n",
    "    if wt_kw == 'flat': \n",
    "        wv = np.ones(M_classes)\n",
    "    if wt_kw == 'up':\n",
    "        wv = np.ones(M_classes)\n",
    "        wv[m] += 1.\n",
    "    if wt_kw == 'down':\n",
    "        wv = np.ones(M_classes)\n",
    "        wv[m] /= 2.\n",
    "    wv = wv / np.sum(wv)\n",
    "    assert(np.isclose(np.sum(wv), 1.))\n",
    "    return wv"
   ]
  },
  {
   "cell_type": "code",
   "execution_count": null,
   "metadata": {},
   "outputs": [],
   "source": [
    "which_weighted = ['by pop', 'flat', 'up', 'down']\n",
    "wt_colors = [mpl.cm.winter_r(minipops), [mpl.cm.autumn_r(0.5)]*M_classes, [mpl.cm.autumn_r(1.)]*M_classes, [mpl.cm.autumn_r(0.)]*M_classes]\n",
    "wt_const = 1. / float(M_classes)\n",
    "    \n",
    "which_metrics = ['Brier', 'LogLoss']"
   ]
  },
  {
   "cell_type": "code",
   "execution_count": null,
   "metadata": {},
   "outputs": [],
   "source": [
    "miniweights = np.empty((len(which_weighted), M_classes, M_classes))\n",
    "for m in which_affected:\n",
    "    for wi in range(len(which_weighted)):\n",
    "        w = which_weighted[wi]\n",
    "        miniweights[wi][m] = make_wv(m, w)"
   ]
  },
  {
   "cell_type": "code",
   "execution_count": null,
   "metadata": {},
   "outputs": [],
   "source": [
    "# warning: slow!!!\n",
    "for s in which_systematics:\n",
    "    minitest[s] = {}\n",
    "    for m in which_affected:\n",
    "        minitest[s][str(m)] = {}\n",
    "        minitest[s][str(m)]['cm'] = make_cm(starter, m, s)\n",
    "        minitest[s][str(m)]['probs'] = classifier.classify(minitest[s][str(m)]['cm'], minitruth, \n",
    "                                                           delta=minidelta, other=False)\n",
    "        minitest[s][str(m)]['results'] = {}\n",
    "        for met in which_metrics:\n",
    "            minitest[s][str(m)][met] = {}\n",
    "            for wi in range(len(which_weighted)):\n",
    "                w = which_weighted[wi]\n",
    "                D = getattr(proclam.metrics, met)()\n",
    "                minitest[s][str(m)][met][w] = D.evaluate(minitest[s][str(m)]['probs'], minitruth, \n",
    "                                                         averaging=miniweights[wi][m])\n",
    "    print('finished '+s)\n",
    "    cpkl.dump(minitest[s], open(s+'_data.pkl', 'wb'))\n",
    "    print('saved '+s)"
   ]
  },
  {
   "cell_type": "code",
   "execution_count": null,
   "metadata": {},
   "outputs": [],
   "source": [
    "for s in which_systematics:\n",
    "    wttest[s] = {}\n",
    "    for met in which_metrics:\n",
    "        wttest[s][met] = np.empty(np.shape(weight_choices))\n",
    "    temp_cm = make_cm(np.eye(M_classes), 6, s)\n",
    "    wttest[s]['cm'] = temp_cm\n",
    "#     print(wttest[s]['cm'])\n",
    "    probs = classifier.classify(wttest[s]['cm'], minitruth, other=False)\n",
    "    wttest[s]['probs'] = probs# systest[s]['probs'][1]\n",
    "    for wi in range(len(weight_choices)):\n",
    "        w = wts[wi]\n",
    "        for met in which_metrics:\n",
    "            D = met_evals[met]\n",
    "            metval = D.evaluate(wttest[s]['probs'], minitruth, averaging=w)\n",
    "            wttest[s][met][wi] = metval\n",
    "    print(s)"
   ]
  },
  {
   "cell_type": "code",
   "execution_count": null,
   "metadata": {},
   "outputs": [],
   "source": [
    "def cm_mega_plot(info_dict, systematics, m, fn='', numrows=2, numcols=4):\n",
    "    fig = pylab.figure(figsize=(5.1, 5.1))\n",
    "    bigAxes = pylab.axes(frameon=False)     # hide frame\n",
    "    bigAxes.set_xticks([])                        # don't want to see any ticks on this axis\n",
    "    bigAxes.set_yticks([])\n",
    "    bigAxes.set_title(fn+' with '+str(m)+' affected')\n",
    "    grid = ImageGrid(fig, 111,          # as in plt.subplot(111)\n",
    "                 nrows_ncols=(numrows,numcols),\n",
    "                 axes_pad=0.,\n",
    "                 share_all=True,\n",
    "                 cbar_location=\"right\",\n",
    "                 cbar_mode=\"single\",\n",
    "                 cbar_size=\"5%\",\n",
    "                 cbar_pad=0.01,\n",
    "                 )\n",
    "    gridnos = np.arange(numrows * numcols).reshape((numcols, numrows)).T.flatten()\n",
    "    for j in range(numcols * numrows):\n",
    "        i = gridnos[j]\n",
    "        ax = grid[j]#fig.add_subplot(numrows,numcols,i+1)#, frameon=False)\n",
    "        ax.set_xticks([])\n",
    "        ax.set_yticks([])\n",
    "        ax.set_xticklabels([])\n",
    "        ax.set_yticklabels([])\n",
    "        position = ax.get_position()\n",
    "#         print(position)\n",
    "        position.x0 += 0.01\n",
    "        position.y0 += 0.02\n",
    "        position.x1 += 0.01\n",
    "        position.y1 += 0.02\n",
    "        ax.set_position(position)\n",
    "#         print(position)\n",
    "        testname = systematics[j]\n",
    "        \n",
    "        im = ax.imshow(info_dict[testname]['cm'][m], vmin=0., vmax=1., cmap='winter_r')\n",
    "        ax.text(.5,.9,testname,horizontalalignment='center',transform=ax.transAxes, fontsize=16)\n",
    "#     pylab.colorbar()\n",
    "#     fig.subplots_adjust(right=0.5)\n",
    "#     cbar_ax = fig.add_axes([0.85, 0.15, 0.05, 0.7])\n",
    "#     fig.colorbar(im, cax=cbar_ax)\n",
    "    ax.cax.colorbar(im)\n",
    "    ax.cax.toggle_label(True)\n",
    "    bigAxes.set_ylabel(r'true class', fontsize=20)\n",
    "    bigAxes.set_xlabel(r'predicted class', fontsize=20)\n",
    "    pylab.tight_layout()\n",
    "    pylab.savefig('fig/systest_'+fn+'_cm.png', bbox_inches='tight', pad_inches=0)"
   ]
  },
  {
   "cell_type": "code",
   "execution_count": null,
   "metadata": {},
   "outputs": [],
   "source": [
    "# connect lines along systematic, weighting, and affected class\n",
    "def wt_only_plot(dataset, metric_names, shapes):\n",
    "    \n",
    "    systematics = dataset.keys()\n",
    "    fig = pylab.figure(figsize=(5, 5))\n",
    "    ax = fig.add_subplot(111)\n",
    "    axp = ax.twinx()\n",
    "    for si in range(len(systematics)):\n",
    "        s = systematics[si]\n",
    "        axp.plot(weight_choices, dataset[s][metric_names[0]], marker=markerlist[si], color='g', alpha=0.25)\n",
    "        ax.plot(weight_choices, dataset[s][metric_names[1]], marker=markerlist[si], color='b', alpha=0.25)\n",
    "        ax.scatter(-1., -1., c='k',\n",
    "                  marker=markerlist[si],\n",
    "                  alpha=0.25, label=systematics[si])\n",
    "    ax.legend(loc='upper left')\n",
    "    ax.set_xlabel('weight relative to unaffected classes')\n",
    "    ax.set_ylabel(metric_names[1])\n",
    "    axp.set_ylabel(metric_names[0])\n",
    "    ax.set_xlim(-0.25, 2.25)\n",
    "    ax.set_ylim(1., 1.7)\n",
    "    axp.set_ylim(0.044, 0.055)\n",
    "    plt.show()\n",
    "#     bigAxes = pylab.axes(frameon=False)     # hide frame\n",
    "#     bigAxes.set_xticks([])                        # don't want to see any ticks on this axis\n",
    "#     bigAxes.set_yticks([])\n",
    "#     bigAxesP = bigAxes.twinx()\n",
    "#     bigAxesP.set_yticks([])\n",
    "#     bigAxes.set_ylabel(metric_names[1], fontsize=20, labelpad=25)\n",
    "#     bigAxes.set_xlabel(r'weight relative to other classes', fontsize=20, labelpad=25)\n",
    "#     bigAxesP.set_ylabel(metric_names[0], rotation=270, fontsize=20, \n",
    "#                         labelpad=50)\n",
    "\n",
    "#     for si in range(len(systematics)):\n",
    "#         s = systematics[si]\n",
    "#         ax = fig.add_subplot(221+si)\n",
    "#         axp = ax.twinx()\n",
    "#         ax.set_xticks(weight_choices)\n",
    "# #         axp.set_yticks([0.04, 0.05, 0.06, 0.07, 0.08])\n",
    "# #         ax.set_yticks([1., 1.5, 2., 2.5, 3., 3.5])\n",
    "# #         ax.set_xticklabels([])\n",
    "# #         ax.set_yticklabels([])\n",
    "# #         axp.set_yticklabels([])\n",
    "#         if si > 1:\n",
    "#             ax.set_xticklabels(weight_choices)\n",
    "# #         if si%2 == 1:\n",
    "# #             axp.set_yticklabels([0.04, 0.05, 0.06, 0.07, 0.08])\n",
    "# #         else: \n",
    "# #             ax.set_yticklabels([1., 1.5, 2., 2.5, 3., 3.5])\n",
    "            \n",
    "#         position = ax.get_position()\n",
    "\n",
    "#         position.x0 += 0.01\n",
    "#         position.y0 += 0.02\n",
    "#         position.x1 += 0.01\n",
    "#         position.y1 += 0.02\n",
    "#         ax.set_position(position)\n",
    "\n",
    "#         ax.text(.5, .9, s, \n",
    "#                 horizontalalignment='center',\n",
    "#                 transform=ax.transAxes, fontsize=20)\n",
    "#         ax.plot(weight_choices, dataset[s][metric_names[1]],\n",
    "#                   marker=markerlist[si],\n",
    "#                   alpha=0.5, c='b')\n",
    "#         axp.plot(weight_choices, dataset[s][metric_names[0]],\n",
    "#                   marker=markerlist[si],\n",
    "#                   alpha=0.5, c='g')\n",
    "# #         ax.set_ylim(0.95, 3.55)\n",
    "# #         axp.set_ylim(0.039, 0.081)\n",
    "# #         ax.set_xlim(-0., 2.)\n",
    "    \n",
    "#     fig.tight_layout()\n",
    "#     fig.subplots_adjust(hspace=0.01, wspace=0.01)\n",
    "#     pylab.savefig('fig/weighting_only.png', dpi=250)\n",
    "#     pylab.show()\n",
    "    return"
   ]
  },
  {
   "cell_type": "code",
   "execution_count": null,
   "metadata": {},
   "outputs": [],
   "source": [
    "wt_only_plot(wttest, which_metrics, markerlist)"
   ]
  },
  {
   "cell_type": "markdown",
   "metadata": {},
   "source": [
    "## first, when the systematics are added to perfect classifier"
   ]
  },
  {
   "cell_type": "code",
   "execution_count": null,
   "metadata": {},
   "outputs": [],
   "source": [
    "classifier = proclam.classifiers.FromCM()\n",
    "\n",
    "minitest = {}\n",
    "which_affected = range(M_classes)\n",
    "systematic_info = {'uncertain':'s', 'almost':'P', 'noisy':'X', 'subsumed': 'D'}#{'uncertain':'s', 'almost':'P', 'noisy':'X', 'cruise':'d', 'subsumed':(3,0,0)}\n",
    "which_systematics = systematic_info.keys()#['agnostic', 'tunnel', 'almost', 'noisy', 'tunnel', 'cruise', 'subsumed']\n",
    "markerlist = systematic_info.values()#['', '', 'd', 'o', 'd', 's', (3,0,0)]\n",
    "\n",
    "minidelta = 0.1\n",
    "starter = np.eye(M_classes) + 1.e-8# + minidelta * np.ones((M_classes, M_classes))\n",
    "# starter = starter / np.sum(starter, axis=1)[:, np.newaxis]"
   ]
  },
  {
   "cell_type": "code",
   "execution_count": null,
   "metadata": {},
   "outputs": [],
   "source": [
    "which_weighted = ['by pop']#['by pop', 'flat', 'up', 'down']\n",
    "wt_colors = [mpl.cm.winter_r(minipops)]#[mpl.cm.winter_r(minipops), [mpl.cm.autumn_r(0.5)]*M_classes, [mpl.cm.autumn_r(1.)]*M_classes, [mpl.cm.autumn_r(0.)]*M_classes]\n",
    "wt_const = 1. / float(M_classes)\n",
    "    \n",
    "which_metrics = ['Brier', 'LogLoss']"
   ]
  },
  {
   "cell_type": "code",
   "execution_count": null,
   "metadata": {},
   "outputs": [],
   "source": [
    "miniweights = np.empty((len(which_weighted), M_classes, M_classes))\n",
    "for m in which_affected:\n",
    "    for wi in range(len(which_weighted)):\n",
    "        w = which_weighted[wi]\n",
    "        miniweights[wi][m] = make_wv(m, w)"
   ]
  },
  {
   "cell_type": "code",
   "execution_count": null,
   "metadata": {
    "scrolled": true
   },
   "outputs": [],
   "source": [
    "# warning: slow!!!\n",
    "for s in which_systematics:\n",
    "    minitest[s] = {}\n",
    "    for m in which_affected:\n",
    "        minitest[s][str(m)] = {}\n",
    "        minitest[s][str(m)]['cm'] = make_cm(starter, m, s)\n",
    "        minitest[s][str(m)]['probs'] = classifier.classify(minitest[s][str(m)]['cm'], minitruth, \n",
    "                                                           delta=minidelta, other=False)\n",
    "        minitest[s][str(m)]['results'] = {}\n",
    "        for met in which_metrics:\n",
    "            minitest[s][str(m)][met] = {}\n",
    "            for wi in range(len(which_weighted)):\n",
    "                w = which_weighted[wi]\n",
    "                D = getattr(proclam.metrics, met)()\n",
    "                minitest[s][str(m)][met][w] = D.evaluate(minitest[s][str(m)]['probs'], minitruth, \n",
    "                                                         averaging=miniweights[wi][m])\n",
    "    print('finished '+s)\n",
    "    cpkl.dump(minitest[s], open('180718_'+s+'_data.pkl', 'wb'))\n",
    "    print('saved '+s)"
   ]
  },
  {
   "cell_type": "code",
   "execution_count": null,
   "metadata": {},
   "outputs": [],
   "source": [
    "# warning: slow!\n",
    "goodtest = {}\n",
    "for s in which_systematics:\n",
    "    goodtest[s] = cpkl.load(open(s+'_data.pkl', 'rb'))\n",
    "#     minitest[s] = cpkl.load(open('almost_'+s+'_data.pkl', 'rb'))\n",
    "    print('loaded '+s)"
   ]
  },
  {
   "cell_type": "code",
   "execution_count": null,
   "metadata": {},
   "outputs": [],
   "source": [
    "# connect lines along systematic, weighting, and affected class\n",
    "def complete_metric_plot(dataset, metric_names, shapes, fn=''):\n",
    "    \n",
    "    systematics = dataset.keys()\n",
    "    xs = np.arange(len(systematics))\n",
    "    fig, ax = plt.subplots(figsize=(5,5))\n",
    "    \n",
    "    ax.text(0.01, 0.8, r'size$\\sim\\log[N_{m}/N]$', \n",
    "            verticalalignment='center', transform=ax.transAxes, \n",
    "            fontsize=10)\n",
    "    ax.text(0.01, 0.85, r'color$\\sim\\exp[w_{m}]$', \n",
    "            verticalalignment='center', transform=ax.transAxes, \n",
    "            fontsize=10)\n",
    "    fig.subplots_adjust(right=1.)\n",
    "#     handles = []\n",
    "#     seeds = []\n",
    "    for m in which_affected:\n",
    "#         one_seed = np.log10(max(1., N_objects * float(minipops[m]))) / 10.\n",
    "#         seeds.append(one_seed)\n",
    "        for si in range(len(systematics)):\n",
    "            s = systematics[si]\n",
    "            for wi in range(len(which_weighted)):\n",
    "                w = which_weighted[wi]\n",
    "#                 print(miniweights[wi][m][m])\n",
    "#                 rel_wt = (((miniweights[wi][m][m] - wt_const) / wt_const) + 1.) / 2.\n",
    "#                 print(rel_wt)\n",
    "                ax.scatter(dataset[s][str(m)][metric_names[0]][w], dataset[s][str(m)][metric_names[1]][w],\n",
    "                  c=wt_colors[wi][m],\n",
    "                  s=50*minipops[m] + 10.,#N_objects**miniweights[wi][m],#rel_wt,#wt_colors[wi][m],#\n",
    "                  marker=markerlist[si],\n",
    "                  alpha=0.25)\n",
    "    for si in range(len(systematics)):\n",
    "        ax.scatter(0., 0., c='k',\n",
    "                  marker=markerlist[si],\n",
    "                  alpha=0.25, label=systematics[si])\n",
    "    \n",
    "    ax.set_xlabel(metric_names[0])\n",
    "    ax.set_ylabel(metric_names[1])\n",
    "    ax.set_ylim(0.9, 3.5)\n",
    "    ax.set_xlim(0.035, 0.09)\n",
    "    ax.legend(loc='lower right')\n",
    "    \n",
    "#     seeds = np.array(seeds)\n",
    "#     print(seeds)\n",
    "    popaxins = inset_axes(ax,\n",
    "                    width=\"25%\",  # width = 25% of parent_bbox width\n",
    "                    height=\"5%\",  # height : 5%\n",
    "                    loc=2)#bbox_to_anchor=(0.35, 0.8))\n",
    "    mpl.colorbar.ColorbarBase(popaxins, cmap=mpl.cm.winter_r,\n",
    "                                norm=mpl.colors.Normalize(vmin=0., vmax=1.), \n",
    "                              orientation='horizontal')\n",
    "#     popaxins.xaxis.set_ticks_position(\"top\")\n",
    "#     popaxins.set_title(r'$w_{m}\\sim N_{m}/N$', fontsize=10)\n",
    "    popaxins.xaxis.set_ticks(np.concatenate((np.concatenate((np.zeros(1), np.flip(minipops, axis=0))), np.ones(1))))\n",
    "    popaxins.xaxis.set_ticklabels(['0']+[]*M_classes+['1'], fontsize=10) #rotation=270, fontsize=10)\n",
    "    \n",
    "#     linaxins = inset_axes(ax,\n",
    "#                     width=\"25%\",  # width = 25% of parent_bbox width\n",
    "#                     height=\"5%\",  # height : 5%\n",
    "#                     loc=6)#bbox_to_anchor=(0.35, 0.55))\n",
    "# #     linaxins = axins.add_axes([0., 1.])\n",
    "#     mpl.colorbar.ColorbarBase(linaxins, cmap=mpl.cm.autumn_r,\n",
    "#                                 norm=mpl.colors.Normalize(vmin=0., vmax=1.),#vmin=0.04, vmax=0.14285714), \n",
    "#                               orientation='horizontal')\n",
    "# #     linaxins.xaxis.set_ticks_position(\"top\")\n",
    "#     linaxins.set_title('flat/up/down weights', fontsize=10)\n",
    "#     linaxins.xaxis.set_ticks([0., 0.5, 1.])\n",
    "#     linaxins.xaxis.set_ticklabels(['downweight', 'flat', 'upweight'], \n",
    "#                                   rotation=270, fontsize=10)\n",
    "    \n",
    "#     plt.show()\n",
    "    plt.savefig('fig/180718'+fn+'all_effects_isolated.png', dpi=250)\n",
    "#     plt.close()\n",
    "    return"
   ]
  },
  {
   "cell_type": "code",
   "execution_count": null,
   "metadata": {},
   "outputs": [],
   "source": [
    "# complete_metric_plot(goodtest, which_metrics, markerlist, fn='almost')\n",
    "complete_metric_plot(minitest, which_metrics, markerlist, fn='perfect')"
   ]
  },
  {
   "cell_type": "code",
   "execution_count": null,
   "metadata": {},
   "outputs": [],
   "source": [
    "print(20 * (1.+ minipops[5]))"
   ]
  },
  {
   "cell_type": "markdown",
   "metadata": {},
   "source": [
    "## when the systematics are added to agnostic classifier"
   ]
  },
  {
   "cell_type": "code",
   "execution_count": null,
   "metadata": {},
   "outputs": [],
   "source": [
    "starter = np.ones((M_classes, M_classes))\n",
    "starter = starter / np.sum(starter, axis=1)[:, np.newaxis]"
   ]
  },
  {
   "cell_type": "code",
   "execution_count": null,
   "metadata": {},
   "outputs": [],
   "source": [
    "# # warning: slow!!!\n",
    "# for s in which_systematics:\n",
    "#     minitest[s] = {}\n",
    "#     for m in which_affected:\n",
    "#         minitest[s][str(m)] = {}\n",
    "#         minitest[s][str(m)]['cm'] = make_cm(starter, m, s)\n",
    "#         minitest[s][str(m)]['probs'] = classifier.classify(minitest[s][str(m)]['cm'], minitruth, \n",
    "#                                                            delta=minidelta, other=False)\n",
    "#         minitest[s][str(m)]['results'] = {}\n",
    "#         for met in which_metrics:\n",
    "#             minitest[s][str(m)][met] = {}\n",
    "#             for wi in range(len(which_weighted)):\n",
    "#                 w = which_weighted[wi]\n",
    "#                 D = getattr(proclam.metrics, met)()\n",
    "#                 minitest[s][str(m)][met][w] = D.evaluate(minitest[s][str(m)]['probs'], minitruth, \n",
    "#                                                          averaging=miniweights[wi][m])\n",
    "#     print('finished '+s)\n",
    "#     cpkl.dump(minitest[s], open('agnostic_'+s+'_data.pkl', 'wb'))\n",
    "#     print('saved '+s)"
   ]
  },
  {
   "cell_type": "code",
   "execution_count": null,
   "metadata": {},
   "outputs": [],
   "source": [
    "# warning: slow!\n",
    "badtest = {}\n",
    "for s in which_systematics:\n",
    "#     minitest[s] = cpkl.load(open(s+'_data.pkl', 'rb'))\n",
    "    badtest[s] = cpkl.load(open('agnostic_'+s+'_data.pkl', 'rb'))\n",
    "    print('loaded '+s)"
   ]
  },
  {
   "cell_type": "code",
   "execution_count": null,
   "metadata": {},
   "outputs": [],
   "source": [
    "complete_metric_plot(badtest, which_metrics, markerlist, fn='agnostic')"
   ]
  },
  {
   "cell_type": "markdown",
   "metadata": {},
   "source": [
    "Would like to do this many times to generate error bars"
   ]
  },
  {
   "cell_type": "code",
   "execution_count": null,
   "metadata": {
    "tags": [
     "hideme"
    ]
   },
   "outputs": [],
   "source": [
    "# cells with a tag of \"hideme\" will not appear in html resulting from:\n",
    "# jupyter nbconvert desc_note/main.ipynb --TagRemovePreprocessor.remove_cell_tags='[\"hideme\"]'\n",
    "# jupyter nbconvert desc_note/main.ipynb --TagRemovePreprocessor.remove_input_tags='[\"hidein\"]'\n"
   ]
  }
 ],
 "metadata": {
  "anaconda-cloud": {},
  "celltoolbar": "Tags",
  "kernelspec": {
   "display_name": "proclam (Python 3)",
   "language": "python",
   "name": "proclam_3"
  },
  "language_info": {
   "codemirror_mode": {
    "name": "ipython",
    "version": 3
   },
   "file_extension": ".py",
   "mimetype": "text/x-python",
   "name": "python",
   "nbconvert_exporter": "python",
   "pygments_lexer": "ipython3",
   "version": "3.6.5"
  }
 },
 "nbformat": 4,
 "nbformat_minor": 1
}
